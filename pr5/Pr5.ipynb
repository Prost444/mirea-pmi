{
 "cells": [
  {
   "cell_type": "code",
   "execution_count": 2,
   "metadata": {},
   "outputs": [
    {
     "data": {
      "text/plain": [
       "100000-element Vector{Int64}:\n",
       " 82123\n",
       " 47877\n",
       " 76995\n",
       " 39660\n",
       " 65069\n",
       " 73189\n",
       " 43664\n",
       " 93801\n",
       " 23180\n",
       " 17377\n",
       "     ⋮\n",
       " 90008\n",
       " 78703\n",
       " 90516\n",
       " 76820\n",
       "  9844\n",
       " 42400\n",
       " 54824\n",
       " 98934\n",
       " 37856"
      ]
     },
     "metadata": {},
     "output_type": "display_data"
    }
   ],
   "source": [
    "using Random\n",
    "A = rand(0:99999, 100000)"
   ]
  },
  {
   "cell_type": "code",
   "execution_count": 6,
   "metadata": {},
   "outputs": [
    {
     "name": "stdout",
     "output_type": "stream",
     "text": [
      "sort(A): 10.777934 seconds (216.05 k allocations: 18.605 GiB, 7.92% gc time, 0.50% compilation time)"
     ]
    },
    {
     "name": "stdout",
     "output_type": "stream",
     "text": [
      "\n",
      "sortperm(A): 14.631082 seconds (444.59 k allocations: 37.210 GiB, 5.72% gc time, 0.35% compilation time)\n"
     ]
    },
    {
     "name": "stdout",
     "output_type": "stream",
     "text": [
      "Base.sort(A; alg = InsertionSort): 1.644164 seconds (63.19 k allocations: 4.088 MiB, 3.67% compilation time)"
     ]
    },
    {
     "name": "stdout",
     "output_type": "stream",
     "text": [
      "\n",
      "Base.sortperm(A; alg = InsertionSort): 6.404495 seconds (51.74 k allocations: 3.407 MiB, 0.16% gc time, 1.36% compilation time)\n"
     ]
    },
    {
     "data": {
      "text/plain": [
       "100000-element Vector{Int64}:\n",
       " 51217\n",
       " 73956\n",
       " 16852\n",
       " 30424\n",
       " 86690\n",
       " 72472\n",
       "  9896\n",
       " 73092\n",
       " 76885\n",
       " 77327\n",
       "     ⋮\n",
       " 33318\n",
       " 59550\n",
       " 22103\n",
       " 12536\n",
       " 77491\n",
       "  7173\n",
       " 42901\n",
       " 52819\n",
       " 43093"
      ]
     },
     "metadata": {},
     "output_type": "display_data"
    }
   ],
   "source": [
    "function sort(A::AbstractVector)\n",
    "    return sort!(copy(A))\n",
    "end\n",
    "\n",
    "function sort!(A::AbstractVector)\n",
    "    @inbounds for i in 2:length(A)\n",
    "        @inbounds key = A[i]\n",
    "        j = i - 1\n",
    "        while j >= 1 && A[j] > key\n",
    "            j -= 1\n",
    "        end\n",
    "        @inbounds @views A[j+2:i] = A[j+1:i-1]\n",
    "        @inbounds A[j+1] = key\n",
    "    end\n",
    "    return A\n",
    "end\n",
    "\n",
    "function sortperm!(A::AbstractVector)\n",
    "    @views I = collect(1:length(A))\n",
    "    @inbounds for i in 2:length(A)\n",
    "        @inbounds key = A[i]\n",
    "        @inbounds j = i - 1\n",
    "        # сравниваем элементы вставляемого элемента и элемента на позиции j, \n",
    "        # пока не найдем место для вставки\n",
    "        while j >= 1 && A[j] > key\n",
    "            j -= 1\n",
    "        end\n",
    "        # вставляем элемент key в нужную позицию, \n",
    "        # сдвигая все элементы на позиции j+1, ..., i-1 на одну позицию вправо\n",
    "        @views @inbounds A[j+2:i] = A[j+1:i-1]\n",
    "        @inbounds A[j+1] = key\n",
    "        # При каждой перестановке элементов в массиве A\n",
    "        # необходимо произвести соответствующую перестановку\n",
    "        # в массиве индексов I, чтобы сохранить соответствие между ними.\n",
    "        @views @inbounds I[j+2:i] = I[j+1:i-1]\n",
    "        @inbounds I[j+1] = i\n",
    "    end\n",
    "    return I\n",
    "end\n",
    "\n",
    "function sortperm(A::AbstractVector)\n",
    "    return sortperm!(copy(A))\n",
    "end\n",
    "\n",
    "\n",
    "@showtime sort(A)\n",
    "@showtime sortperm(A)\n",
    "@showtime Base.sort(A; alg=InsertionSort)\n",
    "@showtime Base.sortperm(A; alg=InsertionSort)\n"
   ]
  },
  {
   "cell_type": "code",
   "execution_count": 4,
   "metadata": {},
   "outputs": [
    {
     "name": "stdout",
     "output_type": "stream",
     "text": [
      "bubblesort(A): 20.898476 seconds (18.81 k allocations: 1.762 MiB, 0.16% compilation time)"
     ]
    },
    {
     "name": "stdout",
     "output_type": "stream",
     "text": [
      "\n",
      "comb_sort(A): 6.215902 seconds (18.97 k allocations: 1.775 MiB, 0.65% compilation time)\n"
     ]
    },
    {
     "data": {
      "text/plain": [
       "100000-element Vector{Int64}:\n",
       "     0\n",
       "     1\n",
       "     4\n",
       "     7\n",
       "     7\n",
       "    10\n",
       "    11\n",
       "    11\n",
       "    12\n",
       "    13\n",
       "     ⋮\n",
       " 99987\n",
       " 99988\n",
       " 99989\n",
       " 99989\n",
       " 99991\n",
       " 99991\n",
       " 99991\n",
       " 99995\n",
       " 99997"
      ]
     },
     "metadata": {},
     "output_type": "display_data"
    }
   ],
   "source": [
    "function bubblesort!(a)\n",
    "    n = length(a)\n",
    "    for i in 1:n-1\n",
    "        for j in 1:n-i\n",
    "            if a[j] > a[j+1]\n",
    "                a[j], a[j+1] = a[j+1], a[j]\n",
    "            end\n",
    "        end\n",
    "    end\n",
    "    return a\n",
    "end\n",
    "\n",
    "function bubblesort(A::AbstractVector)\n",
    "    return bubblesort!(copy(A))\n",
    "end\n",
    "\n",
    "function comb_sort!(a; factor=1.2473309)\n",
    "    step = length(a)\n",
    "    while step >= 1\n",
    "        for i in 1:length(a)-step\n",
    "            if a[i] > a[i+step]\n",
    "                a[i], a[i+step] = a[i+step], a[i]\n",
    "            end\n",
    "        end\n",
    "        step = Int(floor(step/factor))\n",
    "    end\n",
    "    # Теперь массив почти упорядочен, осталось сделать всего несколько итераций внешнего цикла в bubble_sort!(a)\n",
    "    bubblesort!(a)\n",
    "end\n",
    "\n",
    "function comb_sort(A::AbstractVector)\n",
    "    return comb_sort!(copy(A))\n",
    "end\n",
    "\n",
    "@showtime bubblesort(A)\n",
    "@showtime comb_sort(A)"
   ]
  },
  {
   "cell_type": "code",
   "execution_count": 5,
   "metadata": {},
   "outputs": [
    {
     "name": "stdout",
     "output_type": "stream",
     "text": [
      "shell_sort(A): 0.243177 seconds (41.49 k allocations: 2.945 MiB, 77.26% compilation time)\n"
     ]
    },
    {
     "data": {
      "text/plain": [
       "100000-element Vector{Int64}:\n",
       "     0\n",
       "     1\n",
       "     4\n",
       "     7\n",
       "     7\n",
       "    10\n",
       "    11\n",
       "    11\n",
       "    12\n",
       "    13\n",
       "     ⋮\n",
       " 99987\n",
       " 99988\n",
       " 99989\n",
       " 99989\n",
       " 99991\n",
       " 99991\n",
       " 99991\n",
       " 99995\n",
       " 99997"
      ]
     },
     "metadata": {},
     "output_type": "display_data"
    }
   ],
   "source": [
    "function shell_sort!(\n",
    "    a; \n",
    "    step_series = (length(a)÷2^i for i in 1:Int(floor(log2(length(a))))) \n",
    ")\n",
    "    for step in step_series\n",
    "        for i in firstindex(a):lastindex(a)-step\n",
    "            j = i\n",
    "            while j >= firstindex(a) && a[j] > a[j+step]\n",
    "                a[j], a[j+step] = a[j+step], a[j]\n",
    "                j -= step\n",
    "            end\n",
    "        end\n",
    "    end\n",
    "    return a\n",
    "end\n",
    "\n",
    "function shell_sort(A::AbstractVector)\n",
    "    return shell_sort!(copy(A))\n",
    "end\n",
    "\n",
    "@showtime shell_sort(A)"
   ]
  },
  {
   "cell_type": "code",
   "execution_count": 13,
   "metadata": {},
   "outputs": [
    {
     "name": "stdout",
     "output_type": "stream",
     "text": [
      "merge_sort(A): 0.357206 seconds (602.62 k allocations: 27.011 MiB, 2.50% gc time, 96.08% compilation time)\n",
      "Base.sort(A; alg = MergeSort): 0.008867 seconds (4 allocations: 1.145 MiB)\n"
     ]
    },
    {
     "data": {
      "text/plain": [
       "100000-element Vector{Int64}:\n",
       "     1\n",
       "     3\n",
       "     6\n",
       "     7\n",
       "     7\n",
       "     8\n",
       "    10\n",
       "    10\n",
       "    10\n",
       "    13\n",
       "     ⋮\n",
       " 99992\n",
       " 99992\n",
       " 99993\n",
       " 99994\n",
       " 99995\n",
       " 99996\n",
       " 99996\n",
       " 99996\n",
       " 99998"
      ]
     },
     "metadata": {},
     "output_type": "display_data"
    }
   ],
   "source": [
    "@inline function Base.merge!(a1, a2, a3)::Nothing # @inline - делает функцию \"встраиваемой\", т.е. во время компиляции ее тело будет встроено непосредственно в код вызывающей функции (за счет этого происходит экономия на времени, затрачиваемым на вызов функции; это время очень небольшое, но тем не менее)\n",
    "    i1, i2, i3 = 1, 1, 1\n",
    "    @inbounds while i1 <= length(a1) && i2 <= length(a2) # @inbounds - передотвращает проверки выхода за пределы массивов\n",
    "        if a1[i1] < a2[i2]\n",
    "            a3[i3] = a1[i1]\n",
    "            i1 += 1\n",
    "        else\n",
    "            a3[i3] = a2[i2]\n",
    "            i2 += 1\n",
    "        end\n",
    "        i3 += 1\n",
    "    end\n",
    "    @inbounds if i1 > length(a1)\n",
    "        a3[i3:end] .= @view(a2[i2:end]) # Если бы тут было: a3[i3:end] = @view(a2[i2:end]), то это привело бы к лишним аллокациям (к созданию промежуточного массива)\n",
    "    else\n",
    "        a3[i3:end] .= @view(a1[i1:end])\n",
    "    end\n",
    "    nothing\n",
    "end\n",
    "\n",
    "\n",
    "function merge_sort!(a)\n",
    "    b = similar(a) # - вспомогательный массив того же размера и типа, что и массив a\n",
    "    N = length(a)\n",
    "    n = 1 # n - текущая длина блоков\n",
    "    @inbounds while n < N\n",
    "        K = div(N,2n) # - число имеющихся пар блоков длины n\n",
    "        for k in 0:K-1\n",
    "            merge!(@view(a[(1:n).+k*2n]), @view(a[(n+1:2n).+k*2n]), @view(b[(1:2n).+k*2n]))\n",
    "        end\n",
    "        if N - K*2n > n # - осталось еще смержить блок длины n и более короткий остаток\n",
    "            merge!(@view(a[(1:n).+K*2n]), @view(a[K*2n+n+1:end]), @view(b[K*2n+1:end]))\n",
    "        elseif 0 < N - K*2n <= n # - оставшуюся короткую часть мержить не с чем\n",
    "            b[K*2n+1:end] .= @view(a[K*2n+1:end])\n",
    "        end\n",
    "        a, b = b, a\n",
    "        n *= 2\n",
    "    end\n",
    "    if isodd(log2(n)) # - если цикл был выполнен нечетное число раз, то b - это исходная ссылка на массив (на внешний массив), и a - это ссылка на вспомогательный массив (локальный)\n",
    "        b .= a # b = copy(a) - это было бы не то же самое, т.к. при этом получилась бы ссылка на новый массив, который создает функция copy\n",
    "        a = b\n",
    "    end\n",
    "    return a # - исходная ссылка на внешний массив (проверить, что это так, можно с помощью ===)\n",
    "end\n",
    "\n",
    "\n",
    "function merge_sort(A::AbstractVector)\n",
    "    return merge_sort!(copy(A))\n",
    "end\n",
    "\n",
    "@showtime merge_sort(A)\n",
    "@showtime Base.sort(A; alg=MergeSort)"
   ]
  },
  {
   "cell_type": "code",
   "execution_count": 16,
   "metadata": {},
   "outputs": [
    {
     "name": "stdout",
     "output_type": "stream",
     "text": [
      "quick_sort(A): 0.119954 seconds (358.36 k allocations: 17.787 MiB, 89.69% compilation time)\n",
      "Base.sort(A; alg = QuickSort): 0.005783 seconds (2 allocations: 781.297 KiB)\n"
     ]
    },
    {
     "data": {
      "text/plain": [
       "100000-element Vector{Int64}:\n",
       "     1\n",
       "     3\n",
       "     6\n",
       "     7\n",
       "     7\n",
       "     8\n",
       "    10\n",
       "    10\n",
       "    10\n",
       "    13\n",
       "     ⋮\n",
       " 99992\n",
       " 99992\n",
       " 99993\n",
       " 99994\n",
       " 99995\n",
       " 99996\n",
       " 99996\n",
       " 99996\n",
       " 99998"
      ]
     },
     "metadata": {},
     "output_type": "display_data"
    }
   ],
   "source": [
    "function part_sort!(A, b)\n",
    "    N = length(A)\n",
    "    K=0\n",
    "    L=0\n",
    "    M=N\n",
    "    #ИНВАРИАНТ: A[1:K] < b && A[K+1:L] == b && A[M+1:N] > b\n",
    "    while L < M \n",
    "        if A[L+1] == b\n",
    "            L += 1\n",
    "        elseif A[L+1] > b\n",
    "            A[L+1], A[M] = A[M], A[L+1]\n",
    "            M -= 1\n",
    "        else # if A[L+1] < b\n",
    "            L += 1; K += 1\n",
    "            A[L], A[K] = A[K], A[L]\n",
    "        end\n",
    "    end\n",
    "    return K, M+1 \n",
    "    # 1:K и M+1:N - эти диапазоны индексов определяют ещё не \n",
    "    # отсортированные части массива A\n",
    "end\n",
    "\n",
    "function quick_sort!(A)\n",
    "    if isempty(A)\n",
    "        return A\n",
    "    end\n",
    "    N = length(A)\n",
    "    K, M = part_sort!(A, A[rand(1:N)]) # - \"базовый\" элемент массива выбирается случайнам образом\n",
    "    quick_sort!(@view A[1:K])\n",
    "    quick_sort!(@view A[M:N])\n",
    "    return A\n",
    "end\n",
    "\n",
    "function quick_sort(A::AbstractVector)\n",
    "    return quick_sort!(copy(A))\n",
    "end\n",
    "\n",
    "@showtime quick_sort(A)\n",
    "@showtime Base.sort(A; alg=QuickSort)"
   ]
  },
  {
   "cell_type": "code",
   "execution_count": 26,
   "metadata": {},
   "outputs": [
    {
     "name": "stdout",
     "output_type": "stream",
     "text": [
      "order_statistics(A, 50000): 0.074327 seconds (36.38 k allocations: 2.566 MiB, 97.48% compilation time)\n"
     ]
    },
    {
     "data": {
      "text/plain": [
       "49883"
      ]
     },
     "metadata": {},
     "output_type": "display_data"
    }
   ],
   "source": [
    "function order_statistics!(A::AbstractVector{T}, i::Integer)::T where T\n",
    "    function part_sort!(indexes_range::AbstractUnitRange, b)\n",
    "        K, L, M = indexes_range[1]-1, indexes_range[begin]-1, indexes_range[end] # 0, 0, N\n",
    "        #ИНВАРИАНТ: A[indexes_range[begin]:K] < b && A[K+1:L] == b && A[M+1:indexes_range[end]] > b\n",
    "        while L < M \n",
    "            if A[L+1] == b\n",
    "                L += 1\n",
    "            elseif A[L+1] > b\n",
    "                A[L+1], A[M] = A[M], A[L+1]\n",
    "                M -= 1\n",
    "            else # if A[L+1] < b\n",
    "                L += 1; K += 1\n",
    "                A[L], A[K] = A[K], A[L]\n",
    "            end\n",
    "        end    \n",
    "        return indexes_range[begin]:K, M+1:indexes_range[end] \n",
    "        # - эти диапазоны индексов определяют ещё не отсортированные части массива A\n",
    "    end\n",
    "\n",
    "    function find(indexes_range)\n",
    "        left_range, right_range = part_sort!(indexes_range, A[rand(indexes_range)]) \n",
    "        # - здесь \"базовый\" элемент массива выбирается случайным образом\n",
    "        if i in left_range\n",
    "            return find(left_range) \n",
    "        elseif i in right_range\n",
    "            return find(right_range)\n",
    "        else\n",
    "            return A[i]\n",
    "        end\n",
    "    end\n",
    "\n",
    "    find(firstindex(A):lastindex(A))\n",
    "end\n",
    "\n",
    "order_statistics(A, i) = order_statistics!(copy(A), i)\n",
    "\n",
    "\n",
    "@showtime order_statistics(A, 50000)"
   ]
  },
  {
   "cell_type": "code",
   "execution_count": 33,
   "metadata": {},
   "outputs": [
    {
     "name": "stdout",
     "output_type": "stream",
     "text": [
      "calc_sort(A): 0.013571 seconds (775 allocations: 1.569 MiB, 64.64% compilation time)\n"
     ]
    },
    {
     "data": {
      "text/plain": [
       "100000-element Vector{Int64}:\n",
       "     0\n",
       "     1\n",
       "     4\n",
       "     7\n",
       "     7\n",
       "    10\n",
       "    11\n",
       "    11\n",
       "    12\n",
       "    13\n",
       "     ⋮\n",
       " 99987\n",
       " 99988\n",
       " 99989\n",
       " 99989\n",
       " 99991\n",
       " 99991\n",
       " 99991\n",
       " 99995\n",
       " 99997"
      ]
     },
     "metadata": {},
     "output_type": "display_data"
    }
   ],
   "source": [
    "function calc_sort!(A)\n",
    "    min_val, max_val = extrema(A)\n",
    "    num_val = zeros(Int, max_val-min_val+1) # - число всех возможных значений\n",
    "    for val in A\n",
    "        num_val[val-min_val+1] += 1\n",
    "    end  \n",
    "    k = 0\n",
    "    for (i, num) in enumerate(num_val)\n",
    "        A[k+1:k+num] .= min_val+i-1\n",
    "        k += num\n",
    "    end\n",
    "    return A\n",
    "end\n",
    "\n",
    "calc_sort(A) = calc_sort!(copy(A))\n",
    "\n",
    "\n",
    "@showtime calc_sort(A)"
   ]
  }
 ],
 "metadata": {
  "kernelspec": {
   "display_name": "Julia 1.8.0",
   "language": "julia",
   "name": "julia-1.8"
  },
  "language_info": {
   "file_extension": ".jl",
   "mimetype": "application/julia",
   "name": "julia",
   "version": "1.8.0"
  },
  "orig_nbformat": 4
 },
 "nbformat": 4,
 "nbformat_minor": 2
}
