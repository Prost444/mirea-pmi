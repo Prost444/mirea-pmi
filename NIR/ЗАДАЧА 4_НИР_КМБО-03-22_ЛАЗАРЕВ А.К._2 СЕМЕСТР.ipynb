{
 "cells": [
  {
   "attachments": {},
   "cell_type": "markdown",
   "id": "ffd29ed7",
   "metadata": {},
   "source": [
    "Практическая работа 4.\n"
   ]
  },
  {
   "attachments": {},
   "cell_type": "markdown",
   "id": "93ce8e93",
   "metadata": {},
   "source": [
    "Лазарев Александр. КМБО-03-22."
   ]
  },
  {
   "attachments": {},
   "cell_type": "markdown",
   "id": "6840ba18",
   "metadata": {},
   "source": [
    "Вариант 16."
   ]
  },
  {
   "attachments": {},
   "cell_type": "markdown",
   "id": "5a2cf4af",
   "metadata": {},
   "source": [
    "Установка данных."
   ]
  },
  {
   "cell_type": "code",
   "execution_count": 42,
   "id": "6b47793d",
   "metadata": {},
   "outputs": [
    {
     "data": {
      "text/html": [
       "<div>\n",
       "<style scoped>\n",
       "    .dataframe tbody tr th:only-of-type {\n",
       "        vertical-align: middle;\n",
       "    }\n",
       "\n",
       "    .dataframe tbody tr th {\n",
       "        vertical-align: top;\n",
       "    }\n",
       "\n",
       "    .dataframe thead th {\n",
       "        text-align: right;\n",
       "    }\n",
       "</style>\n",
       "<table border=\"1\" class=\"dataframe\">\n",
       "  <thead>\n",
       "    <tr style=\"text-align: right;\">\n",
       "      <th></th>\n",
       "      <th>gender</th>\n",
       "      <th>race/ethnicity</th>\n",
       "      <th>parental level of education</th>\n",
       "      <th>lunch</th>\n",
       "      <th>test preparation course</th>\n",
       "      <th>math score</th>\n",
       "      <th>reading score</th>\n",
       "      <th>writing score</th>\n",
       "    </tr>\n",
       "  </thead>\n",
       "  <tbody>\n",
       "    <tr>\n",
       "      <th>0</th>\n",
       "      <td>female</td>\n",
       "      <td>group B</td>\n",
       "      <td>bachelor's degree</td>\n",
       "      <td>standard</td>\n",
       "      <td>none</td>\n",
       "      <td>72</td>\n",
       "      <td>72</td>\n",
       "      <td>74</td>\n",
       "    </tr>\n",
       "    <tr>\n",
       "      <th>1</th>\n",
       "      <td>female</td>\n",
       "      <td>group C</td>\n",
       "      <td>some college</td>\n",
       "      <td>standard</td>\n",
       "      <td>completed</td>\n",
       "      <td>69</td>\n",
       "      <td>90</td>\n",
       "      <td>88</td>\n",
       "    </tr>\n",
       "    <tr>\n",
       "      <th>2</th>\n",
       "      <td>female</td>\n",
       "      <td>group B</td>\n",
       "      <td>master's degree</td>\n",
       "      <td>standard</td>\n",
       "      <td>none</td>\n",
       "      <td>90</td>\n",
       "      <td>95</td>\n",
       "      <td>93</td>\n",
       "    </tr>\n",
       "    <tr>\n",
       "      <th>3</th>\n",
       "      <td>male</td>\n",
       "      <td>group A</td>\n",
       "      <td>associate's degree</td>\n",
       "      <td>free/reduced</td>\n",
       "      <td>none</td>\n",
       "      <td>47</td>\n",
       "      <td>57</td>\n",
       "      <td>44</td>\n",
       "    </tr>\n",
       "    <tr>\n",
       "      <th>4</th>\n",
       "      <td>male</td>\n",
       "      <td>group C</td>\n",
       "      <td>some college</td>\n",
       "      <td>standard</td>\n",
       "      <td>none</td>\n",
       "      <td>76</td>\n",
       "      <td>78</td>\n",
       "      <td>75</td>\n",
       "    </tr>\n",
       "  </tbody>\n",
       "</table>\n",
       "</div>"
      ],
      "text/plain": [
       "   gender race/ethnicity parental level of education         lunch  \\\n",
       "0  female        group B           bachelor's degree      standard   \n",
       "1  female        group C                some college      standard   \n",
       "2  female        group B             master's degree      standard   \n",
       "3    male        group A          associate's degree  free/reduced   \n",
       "4    male        group C                some college      standard   \n",
       "\n",
       "  test preparation course  math score  reading score  writing score  \n",
       "0                    none          72             72             74  \n",
       "1               completed          69             90             88  \n",
       "2                    none          90             95             93  \n",
       "3                    none          47             57             44  \n",
       "4                    none          76             78             75  "
      ]
     },
     "execution_count": 42,
     "metadata": {},
     "output_type": "execute_result"
    }
   ],
   "source": [
    "import pandas as pd\n",
    "from IPython.display import display\n",
    "\n",
    "# Загрузка данных\n",
    "data = pd.read_csv('StudentsPerformance.csv')\n",
    "data.head()"
   ]
  },
  {
   "attachments": {},
   "cell_type": "markdown",
   "id": "4c194dbe",
   "metadata": {},
   "source": [
    "Данные установлены корректно. Переименуем столбцы для удобной работы и проверим на наличие дубликатов."
   ]
  },
  {
   "cell_type": "code",
   "execution_count": 43,
   "id": "32d819fc",
   "metadata": {},
   "outputs": [
    {
     "data": {
      "text/plain": [
       "False    1000\n",
       "dtype: int64"
      ]
     },
     "execution_count": 43,
     "metadata": {},
     "output_type": "execute_result"
    }
   ],
   "source": [
    "# Переименование.\n",
    "data.rename(columns={'race/ethnicity': 'ethnicity', \n",
    "                          'parental level of education': 'parental_level_education',\n",
    "                           'test preparation course': 'test_course', 'math score': 'math_score',\n",
    "                           'reading score': 'reading_score', 'writing score': 'writing_score'}, inplace=True)\n",
    "# Проверка на дубликаты.\n",
    "data.duplicated().value_counts()"
   ]
  },
  {
   "attachments": {},
   "cell_type": "markdown",
   "id": "a431ad29",
   "metadata": {},
   "source": [
    "Дубликаты отсутствуют, данные готовы к работе."
   ]
  },
  {
   "attachments": {},
   "cell_type": "markdown",
   "id": "cd9b8886",
   "metadata": {},
   "source": [
    "Ознакомимся с возможными значениями."
   ]
  },
  {
   "cell_type": "code",
   "execution_count": 44,
   "id": "54495a2f",
   "metadata": {},
   "outputs": [
    {
     "name": "stdout",
     "output_type": "stream",
     "text": [
      "gender: ['female' 'male']\n",
      "ethnicity: ['group B' 'group C' 'group A' 'group D' 'group E']\n",
      "parental level education: [\"bachelor's degree\" 'some college' \"master's degree\" \"associate's degree\"\n",
      " 'high school' 'some high school']\n",
      "lunch: ['standard' 'free/reduced']\n",
      "test course: ['none' 'completed']\n"
     ]
    }
   ],
   "source": [
    "print('gender:',data['gender'].unique())\n",
    "print('ethnicity:',data['ethnicity'].unique())\n",
    "print('parental level education:', data['parental_level_education'].unique())\n",
    "print('lunch:', data['lunch'].unique())\n",
    "print('test course:', data['test_course'].unique())"
   ]
  },
  {
   "attachments": {},
   "cell_type": "markdown",
   "id": "922c7034",
   "metadata": {},
   "source": [
    "Таким образом:\n",
    "1. Пол можно сделать дамми-переменной (мужчины - 1, женщины - 0).\n",
    "2. Этнической принадлежности будут присвоены соответственно значения от 1 до 5. \n",
    "3. Родительский уровень образования также будет пронумерован от 1 до 6 (чем лучше образование, тем выше значение).\n",
    "4. Переменная, отвечающая за вид получаемого обеда - дамии-переменная (стандартный - 1, со скидкой или беспланый - 0).\n",
    "5. Наличие подготовительных курсов - дамми-переменная (1 - проходил, 0 - не проходил)."
   ]
  },
  {
   "attachments": {},
   "cell_type": "markdown",
   "id": "1e9c3e6c",
   "metadata": {},
   "source": [
    "Отмечу, что для построения классификатора необходимо, чтобы целевая переменная была бинарной. Таким образом, переменная writing_score будет иметь класс 0, если ее значение выше, и 1, если ее значение ниже или совпадает со средним."
   ]
  },
  {
   "attachments": {},
   "cell_type": "markdown",
   "id": "cd77fbe9",
   "metadata": {},
   "source": [
    "Приступим к нормализации данных для осуществения анализа."
   ]
  },
  {
   "cell_type": "code",
   "execution_count": 45,
   "id": "1f5c330a",
   "metadata": {},
   "outputs": [
    {
     "data": {
      "text/html": [
       "<div>\n",
       "<style scoped>\n",
       "    .dataframe tbody tr th:only-of-type {\n",
       "        vertical-align: middle;\n",
       "    }\n",
       "\n",
       "    .dataframe tbody tr th {\n",
       "        vertical-align: top;\n",
       "    }\n",
       "\n",
       "    .dataframe thead th {\n",
       "        text-align: right;\n",
       "    }\n",
       "</style>\n",
       "<table border=\"1\" class=\"dataframe\">\n",
       "  <thead>\n",
       "    <tr style=\"text-align: right;\">\n",
       "      <th></th>\n",
       "      <th>gender</th>\n",
       "      <th>ethnicity</th>\n",
       "      <th>parental_level_education</th>\n",
       "      <th>lunch</th>\n",
       "      <th>test_course</th>\n",
       "      <th>math_score</th>\n",
       "      <th>reading_score</th>\n",
       "      <th>writing_score</th>\n",
       "    </tr>\n",
       "  </thead>\n",
       "  <tbody>\n",
       "    <tr>\n",
       "      <th>0</th>\n",
       "      <td>0</td>\n",
       "      <td>2</td>\n",
       "      <td>5</td>\n",
       "      <td>0</td>\n",
       "      <td>0</td>\n",
       "      <td>72</td>\n",
       "      <td>72</td>\n",
       "      <td>0</td>\n",
       "    </tr>\n",
       "    <tr>\n",
       "      <th>1</th>\n",
       "      <td>0</td>\n",
       "      <td>3</td>\n",
       "      <td>3</td>\n",
       "      <td>0</td>\n",
       "      <td>1</td>\n",
       "      <td>69</td>\n",
       "      <td>90</td>\n",
       "      <td>0</td>\n",
       "    </tr>\n",
       "    <tr>\n",
       "      <th>2</th>\n",
       "      <td>0</td>\n",
       "      <td>2</td>\n",
       "      <td>6</td>\n",
       "      <td>0</td>\n",
       "      <td>0</td>\n",
       "      <td>90</td>\n",
       "      <td>95</td>\n",
       "      <td>0</td>\n",
       "    </tr>\n",
       "    <tr>\n",
       "      <th>3</th>\n",
       "      <td>1</td>\n",
       "      <td>1</td>\n",
       "      <td>4</td>\n",
       "      <td>1</td>\n",
       "      <td>0</td>\n",
       "      <td>47</td>\n",
       "      <td>57</td>\n",
       "      <td>1</td>\n",
       "    </tr>\n",
       "    <tr>\n",
       "      <th>4</th>\n",
       "      <td>1</td>\n",
       "      <td>3</td>\n",
       "      <td>3</td>\n",
       "      <td>1</td>\n",
       "      <td>0</td>\n",
       "      <td>76</td>\n",
       "      <td>78</td>\n",
       "      <td>0</td>\n",
       "    </tr>\n",
       "  </tbody>\n",
       "</table>\n",
       "</div>"
      ],
      "text/plain": [
       "   gender  ethnicity  parental_level_education  lunch  test_course  \\\n",
       "0       0          2                         5      0            0   \n",
       "1       0          3                         3      0            1   \n",
       "2       0          2                         6      0            0   \n",
       "3       1          1                         4      1            0   \n",
       "4       1          3                         3      1            0   \n",
       "\n",
       "   math_score  reading_score  writing_score  \n",
       "0          72             72              0  \n",
       "1          69             90              0  \n",
       "2          90             95              0  \n",
       "3          47             57              1  \n",
       "4          76             78              0  "
      ]
     },
     "execution_count": 45,
     "metadata": {},
     "output_type": "execute_result"
    }
   ],
   "source": [
    "data['gender'] = data['gender'].replace({'female': 0, 'male': 1})\n",
    "data['ethnicity'] = data['ethnicity'].replace({'group A': 1, 'group B': 2, 'group C': 3, 'group D': 4, 'group E': 5})\n",
    "data['parental_level_education'] = data['parental_level_education'].replace({'some high school': 1, 'high school': 2, \n",
    "                            'some college': 3, \"associate's degree\": 4, \"bachelor's degree\": 5, \"master's degree\": 6})\n",
    "data['lunch'] = data['gender'].replace({'free/reduced': 0, 'standard': 1})\n",
    "data['test_course'] = data['test_course'].replace({'none': 0, 'completed': 1})\n",
    "# Обработка целевого признака:\n",
    "data['writing_score'] = data['writing_score'].astype(int) # преобразуем столбец к целому типу\n",
    "data['writing_score'] = data['writing_score'].apply(lambda x: 1 if x <= data['writing_score'].mean() else 0)\n",
    "\n",
    "data['math_score'] = data['math_score'].astype(int)  #все оставшиеся исходные данные следует преобразовать к целому типу\n",
    "data['reading_score'] = data['reading_score'].astype(int)\n",
    "data.head() # ознакомимся с результатами"
   ]
  },
  {
   "attachments": {},
   "cell_type": "markdown",
   "id": "0b8802c8",
   "metadata": {},
   "source": [
    "Выделим целевой признак и удалим его из данных. Для этого используем метод drop():"
   ]
  },
  {
   "cell_type": "code",
   "execution_count": 46,
   "id": "47ddd656",
   "metadata": {},
   "outputs": [],
   "source": [
    "# Выделение целевого признака\n",
    "target = data['writing_score']\n",
    "\n",
    "# Удаление целевого признака из данных\n",
    "data.drop(columns=['writing_score'], inplace=True)"
   ]
  },
  {
   "attachments": {},
   "cell_type": "markdown",
   "id": "204b3387",
   "metadata": {},
   "source": [
    "Разделим набор данных на обучающую и тестовую выборки. Для этого используем функцию train_test_split() из библиотеки scikit-learn:"
   ]
  },
  {
   "cell_type": "code",
   "execution_count": 47,
   "id": "8ecfc6e2",
   "metadata": {},
   "outputs": [],
   "source": [
    "from sklearn.model_selection import train_test_split\n",
    "\n",
    "# Разделение на обучающую и тестовую выборки\n",
    "X_train, X_test, y_train, y_test = train_test_split(data, target, test_size=0.25, random_state=16)"
   ]
  },
  {
   "attachments": {},
   "cell_type": "markdown",
   "id": "cedb3bdc",
   "metadata": {},
   "source": [
    "Тестовая выборка составит четверть от всех данных. Также указан параметр random_state, для того чтобы данные не менялись при каждом запуске программы."
   ]
  },
  {
   "attachments": {},
   "cell_type": "markdown",
   "id": "8eae0e38",
   "metadata": {},
   "source": [
    "Создадим классификатор методом опорных векторов, проведем его обучение и предсказание ответов для тестовой выборки. Для этого используем класс SVM из библиотеки scikit-learn:"
   ]
  },
  {
   "cell_type": "code",
   "execution_count": 48,
   "id": "354cead6",
   "metadata": {},
   "outputs": [],
   "source": [
    "from sklearn.svm import SVC\n",
    "\n",
    "# Создание классификатора\n",
    "clf = SVC()\n",
    "\n",
    "# Обучение классификатора на обучающей выборке\n",
    "clf.fit(X_train, y_train)\n",
    "\n",
    "# Предсказание классов на тестовой выборке\n",
    "y_pred = clf.predict(X_test)\n"
   ]
  },
  {
   "attachments": {},
   "cell_type": "markdown",
   "id": "49d81a59",
   "metadata": {},
   "source": [
    "Оценим точность построенного классификатора с помощью метрик precision, recall и F1 с помоцью значений y_test тестовой выборки. Будем использовать методы из уже упомянутой библиотеки scikit-learn. "
   ]
  },
  {
   "cell_type": "code",
   "execution_count": 49,
   "id": "564361e2",
   "metadata": {},
   "outputs": [
    {
     "name": "stdout",
     "output_type": "stream",
     "text": [
      "Precision: 0.921875\n",
      "Recall: 0.9365079365079365\n",
      "F1-score: 0.9291338582677166\n"
     ]
    }
   ],
   "source": [
    "from sklearn.metrics import precision_score, recall_score, f1_score\n",
    "\n",
    "# Оценка качества модели\n",
    "precision = precision_score(y_test, y_pred)\n",
    "recall = recall_score(y_test, y_pred)\n",
    "f1 = f1_score(y_test, y_pred)\n",
    "\n",
    "print('Precision:', precision)\n",
    "print('Recall:', recall)\n",
    "print('F1-score:', f1)"
   ]
  },
  {
   "attachments": {},
   "cell_type": "markdown",
   "id": "8f03dbac",
   "metadata": {},
   "source": [
    "Значения метрик высоки, что говорит о хорошем качестве классификатора и о возможности проведения качественных предсказаний."
   ]
  },
  {
   "attachments": {},
   "cell_type": "markdown",
   "id": "d5971cf8",
   "metadata": {},
   "source": [
    "ЧАСТЬ 2."
   ]
  },
  {
   "attachments": {},
   "cell_type": "markdown",
   "id": "9211f2e0",
   "metadata": {},
   "source": [
    "Построим классификатор типа Случайный Лес (Random Forest) для решения вышеописанной задачи классификации. Для этого создадим сам классификатор и зададим возможные значения гиперпараметра n_estimators, необходимые для выявления лучшего классификатора (первый перебор шагом 50 от 50 до 1000):"
   ]
  },
  {
   "cell_type": "code",
   "execution_count": 50,
   "id": "88332084",
   "metadata": {},
   "outputs": [],
   "source": [
    "from sklearn.ensemble import RandomForestClassifier\n",
    "\n",
    "# Создание классификатора\n",
    "clf = RandomForestClassifier()\n",
    "\n",
    "# Определение сетки гиперпараметров\n",
    "param_grid = {'n_estimators': list(range(50, 1001, 50))} # число деревьев в лесу."
   ]
  },
  {
   "attachments": {},
   "cell_type": "markdown",
   "id": "403f989f",
   "metadata": {},
   "source": [
    "Далее определим лучший набор гиперпараметров для построения классификатора, используя GridSearch. Сравнивать будем по уже указаным метрикам precision, recall и f1."
   ]
  },
  {
   "attachments": {},
   "cell_type": "markdown",
   "id": "b376f414",
   "metadata": {},
   "source": [
    "from sklearn.model_selection import GridSearchCV\n",
    "\n",
    "grid_search = GridSearchCV(clf, param_grid, scoring=['precision', 'recall', 'f1'], refit='f1')\n",
    "grid_search.fit(X_train, y_train)\n",
    "print('Число деревьев для лучших значений метрик в первом приближении: ', grid_search.best_params_)"
   ]
  },
  {
   "attachments": {},
   "cell_type": "markdown",
   "id": "7a199ff2",
   "metadata": {},
   "source": [
    "Далее определим лучшее число деревьев во втором приближении:"
   ]
  },
  {
   "attachments": {},
   "cell_type": "markdown",
   "id": "8e70e3fc",
   "metadata": {},
   "source": [
    "param_grid = {'n_estimators': list(range(600, 701, 10))} # число деревьев в лесу.\n",
    "grid_search = GridSearchCV(clf, param_grid, scoring=['precision', 'recall', 'f1'], refit='f1')\n",
    "grid_search.fit(X_train, y_train)\n",
    "print('Число деревьев для лучших значений метрик во втором приближении: ', grid_search.best_params_)"
   ]
  },
  {
   "attachments": {},
   "cell_type": "markdown",
   "id": "eb1cf393",
   "metadata": {},
   "source": [
    "Таким образом определен лучший классификатор. Проведем его анализ по аналогии с тем, что проводили для SVM классификатора:"
   ]
  },
  {
   "cell_type": "code",
   "execution_count": 51,
   "id": "81693e3d",
   "metadata": {},
   "outputs": [
    {
     "name": "stdout",
     "output_type": "stream",
     "text": [
      "Precision: 0.944\n",
      "Recall: 0.9365079365079365\n",
      "F1-score: 0.9402390438247011\n"
     ]
    }
   ],
   "source": [
    "# Обучение классификатора с лучшими гиперпараметрами на той же обучающей выборке для сравнения классификаторов\n",
    "best_clf = RandomForestClassifier(n_estimators=660)\n",
    "best_clf.fit(X_train, y_train)\n",
    "\n",
    "# Предсказание классов на той же тестовой выборке\n",
    "y_pred = best_clf.predict(X_test)\n",
    "\n",
    "# Оценка качества модели с помощью метрик precision, recall и F1\n",
    "precision = precision_score(y_test, y_pred)\n",
    "recall = recall_score(y_test, y_pred)\n",
    "f1 = f1_score(y_test, y_pred)\n",
    "\n",
    "# Вывод результатов\n",
    "print('Precision:', precision)\n",
    "print('Recall:', recall)\n",
    "print('F1-score:', f1)"
   ]
  },
  {
   "attachments": {},
   "cell_type": "markdown",
   "id": "74a5abab",
   "metadata": {},
   "source": [
    "Заметен прирост точности предсказаний.\n",
    "Это говорит о том, что классификатор случайного дерева (собранный из лучших значений гиперпараметров) предсказывает данные точнее классификатора \n",
    "метода опорных векторов. Таким образом лучший классификатор для данного исследования это:\n"
   ]
  },
  {
   "attachments": {},
   "cell_type": "markdown",
   "id": "c2d59a89",
   "metadata": {},
   "source": [
    "clf = RandomForestClassifier(n_estimators=660)"
   ]
  },
  {
   "cell_type": "code",
   "execution_count": 52,
   "id": "95ca13cb",
   "metadata": {},
   "outputs": [
    {
     "name": "stdout",
     "output_type": "stream",
     "text": [
      "Вклад признака reading_score в предсказания: 0.5\n",
      "Вклад признака math_score в предсказания: 0.3\n",
      "Вклад признака parental_level_education в предсказания: 0.058\n",
      "Вклад признака ethnicity в предсказания: 0.044\n",
      "Вклад признака test_course в предсказания: 0.04\n",
      "Вклад признака lunch в предсказания: 0.031\n",
      "Вклад признака gender в предсказания: 0.031\n"
     ]
    }
   ],
   "source": [
    "features = data.columns.tolist()\n",
    "\n",
    "# Получение важности каждого признака\n",
    "importance = best_clf.feature_importances_\n",
    "feature_and_importances = [(feature_name, i) for feature_name, i in zip(features, importance)]\n",
    "feature_and_importances.sort(reverse=True, key = lambda x : x[1])\n",
    "# Вывод вклада каждой компоненты\n",
    "for name, imp in feature_and_importances:\n",
    "    print(f\"Вклад признака {name} в предсказания: {imp:.2}\")\n"
   ]
  },
  {
   "cell_type": "code",
   "execution_count": 61,
   "id": "18a32c0e",
   "metadata": {},
   "outputs": [
    {
     "name": "stdout",
     "output_type": "stream",
     "text": [
      "0.9429896550469898\n"
     ]
    },
    {
     "data": {
      "text/html": [
       "<div>\n",
       "<style scoped>\n",
       "    .dataframe tbody tr th:only-of-type {\n",
       "        vertical-align: middle;\n",
       "    }\n",
       "\n",
       "    .dataframe tbody tr th {\n",
       "        vertical-align: top;\n",
       "    }\n",
       "\n",
       "    .dataframe thead th {\n",
       "        text-align: right;\n",
       "    }\n",
       "</style>\n",
       "<table border=\"1\" class=\"dataframe\">\n",
       "  <thead>\n",
       "    <tr style=\"text-align: right;\">\n",
       "      <th></th>\n",
       "      <th>Parameters</th>\n",
       "    </tr>\n",
       "  </thead>\n",
       "  <tbody>\n",
       "    <tr>\n",
       "      <th>gender</th>\n",
       "      <td>-0.196509</td>\n",
       "    </tr>\n",
       "    <tr>\n",
       "      <th>ethnicity</th>\n",
       "      <td>-0.002964</td>\n",
       "    </tr>\n",
       "    <tr>\n",
       "      <th>parental_level_education</th>\n",
       "      <td>0.039078</td>\n",
       "    </tr>\n",
       "    <tr>\n",
       "      <th>lunch</th>\n",
       "      <td>-0.196509</td>\n",
       "    </tr>\n",
       "    <tr>\n",
       "      <th>test_course</th>\n",
       "      <td>0.225830</td>\n",
       "    </tr>\n",
       "    <tr>\n",
       "      <th>math_score</th>\n",
       "      <td>0.291658</td>\n",
       "    </tr>\n",
       "    <tr>\n",
       "      <th>reading_score</th>\n",
       "      <td>0.631599</td>\n",
       "    </tr>\n",
       "  </tbody>\n",
       "</table>\n",
       "</div>"
      ],
      "text/plain": [
       "                          Parameters\n",
       "gender                     -0.196509\n",
       "ethnicity                  -0.002964\n",
       "parental_level_education    0.039078\n",
       "lunch                      -0.196509\n",
       "test_course                 0.225830\n",
       "math_score                  0.291658\n",
       "reading_score               0.631599"
      ]
     },
     "execution_count": 61,
     "metadata": {},
     "output_type": "execute_result"
    }
   ],
   "source": [
    "import numpy as np\n",
    "import statsmodels.api as sm\n",
    "\n",
    "data = pd.read_csv('StudentsPerformance.csv')\n",
    "\n",
    "# Переименование.\n",
    "data.rename(columns={'race/ethnicity': 'ethnicity', \n",
    "                          'parental level of education': 'parental_level_education',\n",
    "                           'test preparation course': 'test_course', 'math score': 'math_score',\n",
    "                           'reading score': 'reading_score', 'writing score': 'writing_score'}, inplace=True)\n",
    "\n",
    "data['gender'] = data['gender'].replace({'female': 0, 'male': 1})\n",
    "data['ethnicity'] = data['ethnicity'].replace({'group A': 1, 'group B': 2, 'group C': 3, 'group D': 4, 'group E': 5})\n",
    "data['parental_level_education'] = data['parental_level_education'].replace({'some high school': 1, 'high school': 2, \n",
    "                            'some college': 3, \"associate's degree\": 4, \"bachelor's degree\": 5, \"master's degree\": 6})\n",
    "data['lunch'] = data['gender'].replace({'free/reduced': 0, 'standard': 1})\n",
    "data['test_course'] = data['test_course'].replace({'none': 0, 'completed': 1})\n",
    "# Обработка целевого признака:\n",
    "\n",
    "# Выделение целевого признака\n",
    "target = data['writing_score']\n",
    "\n",
    "# Удаление целевого признака из данных\n",
    "data.drop(columns=['writing_score'], inplace=True)\n",
    "\n",
    "data['reading_score'] = (data['reading_score'] - np.mean(data['reading_score'], axis=0)) / np.std(data['reading_score'], axis=0)\n",
    "data['math_score'] = (data['math_score'] - np.mean(data['math_score'], axis=0)) / np.std(data['math_score'], axis=0)\n",
    "target = (target - np.mean(target, axis=0)) / np.std(target, axis=0)\n",
    "\n",
    "# Создание модели множественной регрессии\n",
    "model = sm.OLS(target, data)\n",
    "\n",
    "# Обучение модели\n",
    "results = model.fit()\n",
    "\n",
    "# Получение оценок параметров\n",
    "params = results.params\n",
    "\n",
    "# Получение статистических свойств оценок параметров\n",
    "std_errors = results.bse  # Стандартные ошибки оценок параметров\n",
    "t_values = results.tvalues  # Значения t-статистики\n",
    "p_values = results.pvalues  # P-значения\n",
    "confidence_intervals = results.conf_int()  # Доверительные интервалы\n",
    "\n",
    "# Создание пустого датафрейма\n",
    "df = pd.DataFrame()\n",
    "\n",
    "# Загрузка оценок параметров в датафрейм\n",
    "df['Parameters'] = params\n",
    "\n",
    "\n",
    "print(results.rsquared)\n",
    "\n",
    "# Вывод датафрейма\n",
    "df"
   ]
  }
 ],
 "metadata": {
  "kernelspec": {
   "display_name": "Python 3 (ipykernel)",
   "language": "python",
   "name": "python3"
  },
  "language_info": {
   "codemirror_mode": {
    "name": "ipython",
    "version": 3
   },
   "file_extension": ".py",
   "mimetype": "text/x-python",
   "name": "python",
   "nbconvert_exporter": "python",
   "pygments_lexer": "ipython3",
   "version": "3.9.13"
  }
 },
 "nbformat": 4,
 "nbformat_minor": 5
}
