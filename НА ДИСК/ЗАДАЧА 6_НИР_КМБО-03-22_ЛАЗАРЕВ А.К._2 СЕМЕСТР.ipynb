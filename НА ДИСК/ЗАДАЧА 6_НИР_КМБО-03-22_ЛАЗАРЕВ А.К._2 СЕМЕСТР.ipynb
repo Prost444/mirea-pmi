{
 "cells": [
  {
   "attachments": {},
   "cell_type": "markdown",
   "metadata": {},
   "source": [
    "#   Практическая №6. Индивидульное задание."
   ]
  },
  {
   "attachments": {},
   "cell_type": "markdown",
   "metadata": {},
   "source": [
    "Лазарев Александр. КМБО-03-22."
   ]
  },
  {
   "attachments": {},
   "cell_type": "markdown",
   "metadata": {},
   "source": [
    "Вариант 22."
   ]
  },
  {
   "attachments": {},
   "cell_type": "markdown",
   "metadata": {},
   "source": [
    "#   Определение качества вина."
   ]
  },
  {
   "attachments": {},
   "cell_type": "markdown",
   "metadata": {},
   "source": [
    "---"
   ]
  },
  {
   "attachments": {},
   "cell_type": "markdown",
   "metadata": {},
   "source": [
    "# §1 Подготовка данных."
   ]
  },
  {
   "attachments": {},
   "cell_type": "markdown",
   "metadata": {},
   "source": [
    "Установка данных."
   ]
  },
  {
   "cell_type": "code",
   "execution_count": 324,
   "metadata": {},
   "outputs": [
    {
     "data": {
      "text/html": [
       "<div>\n",
       "<style scoped>\n",
       "    .dataframe tbody tr th:only-of-type {\n",
       "        vertical-align: middle;\n",
       "    }\n",
       "\n",
       "    .dataframe tbody tr th {\n",
       "        vertical-align: top;\n",
       "    }\n",
       "\n",
       "    .dataframe thead th {\n",
       "        text-align: right;\n",
       "    }\n",
       "</style>\n",
       "<table border=\"1\" class=\"dataframe\">\n",
       "  <thead>\n",
       "    <tr style=\"text-align: right;\">\n",
       "      <th></th>\n",
       "      <th>fixed acidity</th>\n",
       "      <th>volatile acidity</th>\n",
       "      <th>citric acid</th>\n",
       "      <th>residual sugar</th>\n",
       "      <th>chlorides</th>\n",
       "      <th>free sulfur dioxide</th>\n",
       "      <th>total sulfur dioxide</th>\n",
       "      <th>density</th>\n",
       "      <th>pH</th>\n",
       "      <th>sulphates</th>\n",
       "      <th>alcohol</th>\n",
       "      <th>quality</th>\n",
       "    </tr>\n",
       "  </thead>\n",
       "  <tbody>\n",
       "    <tr>\n",
       "      <th>0</th>\n",
       "      <td>7.4</td>\n",
       "      <td>0.70</td>\n",
       "      <td>0.00</td>\n",
       "      <td>1.9</td>\n",
       "      <td>0.076</td>\n",
       "      <td>11.0</td>\n",
       "      <td>34.0</td>\n",
       "      <td>0.9978</td>\n",
       "      <td>3.51</td>\n",
       "      <td>0.56</td>\n",
       "      <td>9.4</td>\n",
       "      <td>5</td>\n",
       "    </tr>\n",
       "    <tr>\n",
       "      <th>1</th>\n",
       "      <td>7.8</td>\n",
       "      <td>0.88</td>\n",
       "      <td>0.00</td>\n",
       "      <td>2.6</td>\n",
       "      <td>0.098</td>\n",
       "      <td>25.0</td>\n",
       "      <td>67.0</td>\n",
       "      <td>0.9968</td>\n",
       "      <td>3.20</td>\n",
       "      <td>0.68</td>\n",
       "      <td>9.8</td>\n",
       "      <td>5</td>\n",
       "    </tr>\n",
       "    <tr>\n",
       "      <th>2</th>\n",
       "      <td>7.8</td>\n",
       "      <td>0.76</td>\n",
       "      <td>0.04</td>\n",
       "      <td>2.3</td>\n",
       "      <td>0.092</td>\n",
       "      <td>15.0</td>\n",
       "      <td>54.0</td>\n",
       "      <td>0.9970</td>\n",
       "      <td>3.26</td>\n",
       "      <td>0.65</td>\n",
       "      <td>9.8</td>\n",
       "      <td>5</td>\n",
       "    </tr>\n",
       "    <tr>\n",
       "      <th>3</th>\n",
       "      <td>11.2</td>\n",
       "      <td>0.28</td>\n",
       "      <td>0.56</td>\n",
       "      <td>1.9</td>\n",
       "      <td>0.075</td>\n",
       "      <td>17.0</td>\n",
       "      <td>60.0</td>\n",
       "      <td>0.9980</td>\n",
       "      <td>3.16</td>\n",
       "      <td>0.58</td>\n",
       "      <td>9.8</td>\n",
       "      <td>6</td>\n",
       "    </tr>\n",
       "    <tr>\n",
       "      <th>4</th>\n",
       "      <td>7.4</td>\n",
       "      <td>0.70</td>\n",
       "      <td>0.00</td>\n",
       "      <td>1.9</td>\n",
       "      <td>0.076</td>\n",
       "      <td>11.0</td>\n",
       "      <td>34.0</td>\n",
       "      <td>0.9978</td>\n",
       "      <td>3.51</td>\n",
       "      <td>0.56</td>\n",
       "      <td>9.4</td>\n",
       "      <td>5</td>\n",
       "    </tr>\n",
       "  </tbody>\n",
       "</table>\n",
       "</div>"
      ],
      "text/plain": [
       "   fixed acidity  volatile acidity  citric acid  residual sugar  chlorides  \\\n",
       "0            7.4              0.70         0.00             1.9      0.076   \n",
       "1            7.8              0.88         0.00             2.6      0.098   \n",
       "2            7.8              0.76         0.04             2.3      0.092   \n",
       "3           11.2              0.28         0.56             1.9      0.075   \n",
       "4            7.4              0.70         0.00             1.9      0.076   \n",
       "\n",
       "   free sulfur dioxide  total sulfur dioxide  density    pH  sulphates  \\\n",
       "0                 11.0                  34.0   0.9978  3.51       0.56   \n",
       "1                 25.0                  67.0   0.9968  3.20       0.68   \n",
       "2                 15.0                  54.0   0.9970  3.26       0.65   \n",
       "3                 17.0                  60.0   0.9980  3.16       0.58   \n",
       "4                 11.0                  34.0   0.9978  3.51       0.56   \n",
       "\n",
       "   alcohol  quality  \n",
       "0      9.4        5  \n",
       "1      9.8        5  \n",
       "2      9.8        5  \n",
       "3      9.8        6  \n",
       "4      9.4        5  "
      ]
     },
     "execution_count": 324,
     "metadata": {},
     "output_type": "execute_result"
    }
   ],
   "source": [
    "# Избавимся от предупреждений из импортируемых библиотетк для лучшего представления работы.\n",
    "import warnings\n",
    "warnings.filterwarnings('ignore')\n",
    "import pandas as pd\n",
    "\n",
    "# Загрузка данных\n",
    "data = pd.read_csv('winequality-red.csv')\n",
    "features = data.columns.tolist() # Список имен признаков\n",
    "data.head() # Ознакомление с данными (первые 5 строк) "
   ]
  },
  {
   "attachments": {},
   "cell_type": "markdown",
   "metadata": {},
   "source": [
    "Данные установлены корректно."
   ]
  },
  {
   "cell_type": "code",
   "execution_count": 325,
   "metadata": {},
   "outputs": [
    {
     "name": "stdout",
     "output_type": "stream",
     "text": [
      "Строки \\ столбцы\n",
      "1599 \\ 12\n"
     ]
    }
   ],
   "source": [
    "print(\"Строки \\ столбцы\")\n",
    "print(*data.shape, sep=' \\ ')"
   ]
  },
  {
   "cell_type": "code",
   "execution_count": 247,
   "metadata": {},
   "outputs": [
    {
     "name": "stdout",
     "output_type": "stream",
     "text": [
      "Все признаки + их число уникальных значений:\n",
      "{'fixed acidity': 96}\n",
      "{'volatile acidity': 143}\n",
      "{'citric acid': 80}\n",
      "{'residual sugar': 91}\n",
      "{'chlorides': 153}\n",
      "{'free sulfur dioxide': 60}\n",
      "{'total sulfur dioxide': 144}\n",
      "{'density': 436}\n",
      "{'pH': 89}\n",
      "{'sulphates': 96}\n",
      "{'alcohol': 65}\n",
      "{'quality': 6}\n"
     ]
    }
   ],
   "source": []
  },
  {
   "attachments": {},
   "cell_type": "markdown",
   "metadata": {},
   "source": [
    "В наборе данных 1599 объектов и 12 признаков. \n"
   ]
  },
  {
   "attachments": {},
   "cell_type": "markdown",
   "metadata": {},
   "source": []
  },
  {
   "cell_type": "code",
   "execution_count": 326,
   "metadata": {},
   "outputs": [
    {
     "name": "stdout",
     "output_type": "stream",
     "text": [
      "<class 'pandas.core.frame.DataFrame'>\n",
      "RangeIndex: 1599 entries, 0 to 1598\n",
      "Data columns (total 12 columns):\n",
      " #   Column                Non-Null Count  Dtype  \n",
      "---  ------                --------------  -----  \n",
      " 0   fixed acidity         1599 non-null   float64\n",
      " 1   volatile acidity      1599 non-null   float64\n",
      " 2   citric acid           1599 non-null   float64\n",
      " 3   residual sugar        1599 non-null   float64\n",
      " 4   chlorides             1599 non-null   float64\n",
      " 5   free sulfur dioxide   1599 non-null   float64\n",
      " 6   total sulfur dioxide  1599 non-null   float64\n",
      " 7   density               1599 non-null   float64\n",
      " 8   pH                    1599 non-null   float64\n",
      " 9   sulphates             1599 non-null   float64\n",
      " 10  alcohol               1599 non-null   float64\n",
      " 11  quality               1599 non-null   int64  \n",
      "dtypes: float64(11), int64(1)\n",
      "memory usage: 150.0 KB\n"
     ]
    }
   ],
   "source": [
    "data.info() # Проверим форматы признаков"
   ]
  },
  {
   "attachments": {},
   "cell_type": "markdown",
   "metadata": {},
   "source": [
    "Заметим, что все признаки являются числовыми, следовательно категориальных и бинарных признаков в датафрейме нет."
   ]
  },
  {
   "cell_type": "code",
   "execution_count": 249,
   "metadata": {},
   "outputs": [
    {
     "data": {
      "text/plain": [
       "fixed acidity           0\n",
       "volatile acidity        0\n",
       "citric acid             0\n",
       "residual sugar          0\n",
       "chlorides               0\n",
       "free sulfur dioxide     0\n",
       "total sulfur dioxide    0\n",
       "density                 0\n",
       "pH                      0\n",
       "sulphates               0\n",
       "alcohol                 0\n",
       "quality                 0\n",
       "dtype: int64"
      ]
     },
     "execution_count": 249,
     "metadata": {},
     "output_type": "execute_result"
    }
   ],
   "source": [
    "data.isnull().sum() # Проверяем количество пропущенных элементов"
   ]
  },
  {
   "attachments": {},
   "cell_type": "markdown",
   "metadata": {},
   "source": [
    "Пропущенные значения отсутствуют."
   ]
  },
  {
   "cell_type": "code",
   "execution_count": 250,
   "metadata": {},
   "outputs": [
    {
     "data": {
      "text/html": [
       "<div>\n",
       "<style scoped>\n",
       "    .dataframe tbody tr th:only-of-type {\n",
       "        vertical-align: middle;\n",
       "    }\n",
       "\n",
       "    .dataframe tbody tr th {\n",
       "        vertical-align: top;\n",
       "    }\n",
       "\n",
       "    .dataframe thead th {\n",
       "        text-align: right;\n",
       "    }\n",
       "</style>\n",
       "<table border=\"1\" class=\"dataframe\">\n",
       "  <thead>\n",
       "    <tr style=\"text-align: right;\">\n",
       "      <th></th>\n",
       "      <th>fixed acidity</th>\n",
       "      <th>volatile acidity</th>\n",
       "      <th>citric acid</th>\n",
       "      <th>residual sugar</th>\n",
       "      <th>chlorides</th>\n",
       "      <th>free sulfur dioxide</th>\n",
       "      <th>total sulfur dioxide</th>\n",
       "      <th>density</th>\n",
       "      <th>pH</th>\n",
       "      <th>sulphates</th>\n",
       "      <th>alcohol</th>\n",
       "      <th>quality</th>\n",
       "    </tr>\n",
       "  </thead>\n",
       "  <tbody>\n",
       "    <tr>\n",
       "      <th>count</th>\n",
       "      <td>1599.000000</td>\n",
       "      <td>1599.000000</td>\n",
       "      <td>1599.000000</td>\n",
       "      <td>1599.000000</td>\n",
       "      <td>1599.000000</td>\n",
       "      <td>1599.000000</td>\n",
       "      <td>1599.000000</td>\n",
       "      <td>1599.000000</td>\n",
       "      <td>1599.000000</td>\n",
       "      <td>1599.000000</td>\n",
       "      <td>1599.000000</td>\n",
       "      <td>1599.000000</td>\n",
       "    </tr>\n",
       "    <tr>\n",
       "      <th>mean</th>\n",
       "      <td>8.319637</td>\n",
       "      <td>0.527821</td>\n",
       "      <td>0.270976</td>\n",
       "      <td>2.538806</td>\n",
       "      <td>0.087467</td>\n",
       "      <td>15.874922</td>\n",
       "      <td>46.467792</td>\n",
       "      <td>0.996747</td>\n",
       "      <td>3.311113</td>\n",
       "      <td>0.658149</td>\n",
       "      <td>10.422983</td>\n",
       "      <td>5.636023</td>\n",
       "    </tr>\n",
       "    <tr>\n",
       "      <th>std</th>\n",
       "      <td>1.741096</td>\n",
       "      <td>0.179060</td>\n",
       "      <td>0.194801</td>\n",
       "      <td>1.409928</td>\n",
       "      <td>0.047065</td>\n",
       "      <td>10.460157</td>\n",
       "      <td>32.895324</td>\n",
       "      <td>0.001887</td>\n",
       "      <td>0.154386</td>\n",
       "      <td>0.169507</td>\n",
       "      <td>1.065668</td>\n",
       "      <td>0.807569</td>\n",
       "    </tr>\n",
       "    <tr>\n",
       "      <th>min</th>\n",
       "      <td>4.600000</td>\n",
       "      <td>0.120000</td>\n",
       "      <td>0.000000</td>\n",
       "      <td>0.900000</td>\n",
       "      <td>0.012000</td>\n",
       "      <td>1.000000</td>\n",
       "      <td>6.000000</td>\n",
       "      <td>0.990070</td>\n",
       "      <td>2.740000</td>\n",
       "      <td>0.330000</td>\n",
       "      <td>8.400000</td>\n",
       "      <td>3.000000</td>\n",
       "    </tr>\n",
       "    <tr>\n",
       "      <th>25%</th>\n",
       "      <td>7.100000</td>\n",
       "      <td>0.390000</td>\n",
       "      <td>0.090000</td>\n",
       "      <td>1.900000</td>\n",
       "      <td>0.070000</td>\n",
       "      <td>7.000000</td>\n",
       "      <td>22.000000</td>\n",
       "      <td>0.995600</td>\n",
       "      <td>3.210000</td>\n",
       "      <td>0.550000</td>\n",
       "      <td>9.500000</td>\n",
       "      <td>5.000000</td>\n",
       "    </tr>\n",
       "    <tr>\n",
       "      <th>50%</th>\n",
       "      <td>7.900000</td>\n",
       "      <td>0.520000</td>\n",
       "      <td>0.260000</td>\n",
       "      <td>2.200000</td>\n",
       "      <td>0.079000</td>\n",
       "      <td>14.000000</td>\n",
       "      <td>38.000000</td>\n",
       "      <td>0.996750</td>\n",
       "      <td>3.310000</td>\n",
       "      <td>0.620000</td>\n",
       "      <td>10.200000</td>\n",
       "      <td>6.000000</td>\n",
       "    </tr>\n",
       "    <tr>\n",
       "      <th>75%</th>\n",
       "      <td>9.200000</td>\n",
       "      <td>0.640000</td>\n",
       "      <td>0.420000</td>\n",
       "      <td>2.600000</td>\n",
       "      <td>0.090000</td>\n",
       "      <td>21.000000</td>\n",
       "      <td>62.000000</td>\n",
       "      <td>0.997835</td>\n",
       "      <td>3.400000</td>\n",
       "      <td>0.730000</td>\n",
       "      <td>11.100000</td>\n",
       "      <td>6.000000</td>\n",
       "    </tr>\n",
       "    <tr>\n",
       "      <th>max</th>\n",
       "      <td>15.900000</td>\n",
       "      <td>1.580000</td>\n",
       "      <td>1.000000</td>\n",
       "      <td>15.500000</td>\n",
       "      <td>0.611000</td>\n",
       "      <td>72.000000</td>\n",
       "      <td>289.000000</td>\n",
       "      <td>1.003690</td>\n",
       "      <td>4.010000</td>\n",
       "      <td>2.000000</td>\n",
       "      <td>14.900000</td>\n",
       "      <td>8.000000</td>\n",
       "    </tr>\n",
       "  </tbody>\n",
       "</table>\n",
       "</div>"
      ],
      "text/plain": [
       "       fixed acidity  volatile acidity  citric acid  residual sugar  \\\n",
       "count    1599.000000       1599.000000  1599.000000     1599.000000   \n",
       "mean        8.319637          0.527821     0.270976        2.538806   \n",
       "std         1.741096          0.179060     0.194801        1.409928   \n",
       "min         4.600000          0.120000     0.000000        0.900000   \n",
       "25%         7.100000          0.390000     0.090000        1.900000   \n",
       "50%         7.900000          0.520000     0.260000        2.200000   \n",
       "75%         9.200000          0.640000     0.420000        2.600000   \n",
       "max        15.900000          1.580000     1.000000       15.500000   \n",
       "\n",
       "         chlorides  free sulfur dioxide  total sulfur dioxide      density  \\\n",
       "count  1599.000000          1599.000000           1599.000000  1599.000000   \n",
       "mean      0.087467            15.874922             46.467792     0.996747   \n",
       "std       0.047065            10.460157             32.895324     0.001887   \n",
       "min       0.012000             1.000000              6.000000     0.990070   \n",
       "25%       0.070000             7.000000             22.000000     0.995600   \n",
       "50%       0.079000            14.000000             38.000000     0.996750   \n",
       "75%       0.090000            21.000000             62.000000     0.997835   \n",
       "max       0.611000            72.000000            289.000000     1.003690   \n",
       "\n",
       "                pH    sulphates      alcohol      quality  \n",
       "count  1599.000000  1599.000000  1599.000000  1599.000000  \n",
       "mean      3.311113     0.658149    10.422983     5.636023  \n",
       "std       0.154386     0.169507     1.065668     0.807569  \n",
       "min       2.740000     0.330000     8.400000     3.000000  \n",
       "25%       3.210000     0.550000     9.500000     5.000000  \n",
       "50%       3.310000     0.620000    10.200000     6.000000  \n",
       "75%       3.400000     0.730000    11.100000     6.000000  \n",
       "max       4.010000     2.000000    14.900000     8.000000  "
      ]
     },
     "execution_count": 250,
     "metadata": {},
     "output_type": "execute_result"
    }
   ],
   "source": []
  },
  {
   "attachments": {},
   "cell_type": "markdown",
   "metadata": {},
   "source": [
    "Из данного ознакомления, а так же из описания, приведенного к датафрему, видно, что данные были специально отобранны для анализа и задач машинного обучения, следовательно в первом приближении факт наличия выбросов можно исключить."
   ]
  },
  {
   "attachments": {},
   "cell_type": "markdown",
   "metadata": {},
   "source": [
    "Очевидно, что целевым признаком в этом набором служит quality (конечная оценка качества вина). Запишем его в целевую переменную и удалим из исходных данных."
   ]
  },
  {
   "attachments": {},
   "cell_type": "markdown",
   "metadata": {},
   "source": [
    "Остальные признаки нормализуем через стандартное отклонение."
   ]
  },
  {
   "cell_type": "code",
   "execution_count": 327,
   "metadata": {},
   "outputs": [],
   "source": [
    "target = data['quality']\n",
    "\n",
    "# Удаление целевого признака из данных\n",
    "data.drop(columns=['quality'], inplace=True)\n",
    "\n",
    "# нормировка признаков через стандартное отклонение\n",
    "data = (data - np.mean(data, axis=0)) / np.std(data, axis=0)\n"
   ]
  },
  {
   "attachments": {},
   "cell_type": "markdown",
   "metadata": {},
   "source": [
    "---"
   ]
  },
  {
   "attachments": {},
   "cell_type": "markdown",
   "metadata": {},
   "source": [
    "# §2 Предсказание качества вина и оценка значимости параметров."
   ]
  },
  {
   "attachments": {},
   "cell_type": "markdown",
   "metadata": {},
   "source": [
    "Поймем, какими методами лучше всего работать с данными."
   ]
  },
  {
   "attachments": {},
   "cell_type": "markdown",
   "metadata": {},
   "source": [
    "### В первую очередь, оценим возможность применения кластеризации к данному датафрейму. ### \n",
    "Для этого воспользуемся методом локтя."
   ]
  },
  {
   "cell_type": "code",
   "execution_count": 328,
   "metadata": {},
   "outputs": [
    {
     "data": {
      "image/png": "[encoded data removed]",
      "text/plain": [
       "<Figure size 640x480 with 1 Axes>"
      ]
     },
     "metadata": {},
     "output_type": "display_data"
    }
   ],
   "source": [
    "import matplotlib.pyplot as plt\n",
    "from sklearn.cluster import KMeans\n",
    "from sklearn import metrics\n",
    "\n",
    "# Создание списка для сохранения значения инерции (сумма квадратов расстояний до ближайшего центроида) для разных значений k\n",
    "inertia = []\n",
    "\n",
    "# Задание разных значений k\n",
    "k_values = range(1, 12)\n",
    "\n",
    "# Вычисление инерции для каждого значения k\n",
    "for k in k_values:\n",
    "    kmeans = KMeans(n_clusters=k, random_state=42)\n",
    "    kmeans.fit(data)\n",
    "    inertia.append(kmeans.inertia_)\n",
    "\n",
    "# Построение графика локтя\n",
    "plt.plot(k_values, inertia, marker='o')\n",
    "# Задание шага сетки по оси x\n",
    "plt.xticks(np.arange(1, 12, 1))\n",
    "plt.xlabel('Число кластеров (k)')\n",
    "plt.ylabel('Инерция')\n",
    "plt.title('Метод локтя')\n",
    "plt.show()\n",
    "\n"
   ]
  },
  {
   "attachments": {},
   "cell_type": "markdown",
   "metadata": {},
   "source": [
    "Видно, что график образует почти идеальную дугу, без четкого \"локтя\", что может означать, что изменение числа кластеров не сильно влияет на инерцию. В таком случае, использование метода локтя может быть не информативным.\n",
    "\n",
    "В сложившейся ситуации может быть полезным рассмотреть другие методы для определения оптимального числа кластеров, например метод силуэта."
   ]
  },
  {
   "attachments": {},
   "cell_type": "markdown",
   "metadata": {},
   "source": [
    "Метод силуэта используется для оценки качества кластеризации и помогает определить оптимальное число кластеров. Он основан на вычислении силуэтных коэффициентов для каждого объекта в выборке. При этом, чем ближе значение силуэтного коэффициента к 1, тем лучше кластеризация."
   ]
  },
  {
   "cell_type": "code",
   "execution_count": 329,
   "metadata": {},
   "outputs": [
    {
     "name": "stdout",
     "output_type": "stream",
     "text": [
      "Если число кластеров равно = 2 , то среднее зачение силуэтных коэффициентов = 0.2137299633548186\n",
      "Если число кластеров равно = 3 , то среднее зачение силуэтных коэффициентов = 0.18921017006424395\n",
      "Если число кластеров равно = 4 , то среднее зачение силуэтных коэффициентов = 0.20537478018609118\n",
      "Если число кластеров равно = 5 , то среднее зачение силуэтных коэффициентов = 0.19029743601034466\n",
      "Если число кластеров равно = 6 , то среднее зачение силуэтных коэффициентов = 0.19453023524467927\n",
      "Если число кластеров равно = 7 , то среднее зачение силуэтных коэффициентов = 0.18984796085436983\n",
      "Если число кластеров равно = 8 , то среднее зачение силуэтных коэффициентов = 0.1500073767393127\n",
      "Если число кластеров равно = 9 , то среднее зачение силуэтных коэффициентов = 0.15377064858949194\n",
      "Если число кластеров равно = 10 , то среднее зачение силуэтных коэффициентов = 0.15228246199879836\n",
      "Если число кластеров равно = 11 , то среднее зачение силуэтных коэффициентов = 0.1324137374040649\n"
     ]
    }
   ],
   "source": [
    "from sklearn.cluster import KMeans\n",
    "from sklearn.metrics import silhouette_score\n",
    "\n",
    "# Проведение кластеризации для разного числа кластеров\n",
    "for n_clusters in range(2, 12):\n",
    "    kmeans = KMeans(n_clusters=n_clusters)\n",
    "    cluster_labels = kmeans.fit_predict(data)\n",
    "    \n",
    "    # Вычисление среднего силуэтного коэффициента\n",
    "    silhouette_avg = silhouette_score(data, cluster_labels)\n",
    "    print(\"Если число кластеров равно =\", n_clusters, \", то среднее зачение силуэтных коэффициентов =\", silhouette_avg)\n"
   ]
  },
  {
   "cell_type": "code",
   "execution_count": 334,
   "metadata": {},
   "outputs": [
    {
     "name": "stdout",
     "output_type": "stream",
     "text": [
      "1\n"
     ]
    }
   ],
   "source": [
    "target = target.apply(lambda x: 1 if x>=7 else 0)\n",
    "print(max(target))\n",
    "\n",
    "# Разделение на обучающую и тестовую выборки\n",
    "X_train, X_test, y_train, y_test = train_test_split(data, target, test_size=0.2, random_state=42)"
   ]
  },
  {
   "attachments": {},
   "cell_type": "markdown",
   "metadata": {},
   "source": [
    "Разобьем данные на тренировочную и тестовую выборки."
   ]
  },
  {
   "cell_type": "code",
   "execution_count": 330,
   "metadata": {},
   "outputs": [],
   "source": [
    "import numpy as np\n",
    "\n",
    "\n",
    "\n",
    "from sklearn.model_selection import train_test_split\n",
    "\n",
    "# Разделение на обучающую и тестовую выборки\n",
    "X_train, X_test, y_train, y_test = train_test_split(data, target, test_size=0.3, random_state=42)"
   ]
  },
  {
   "attachments": {},
   "cell_type": "markdown",
   "metadata": {},
   "source": [
    "Создадим классификатор типа логистической регрессии и используем его на данных наборах."
   ]
  },
  {
   "cell_type": "code",
   "execution_count": 331,
   "metadata": {},
   "outputs": [],
   "source": [
    "from sklearn.linear_model import LogisticRegression\n",
    "\n",
    "# Создание объекта модели логистической регрессии\n",
    "lr = LogisticRegression(max_iter=1000, random_state=42)\n",
    "\n",
    "# Обучение классификатора на обучающей выборке\n",
    "lr.fit(X_train, y_train)\n",
    "\n",
    "# Предсказание классов на тестовой выборке\n",
    "y_pred = lr.predict(X_test)"
   ]
  },
  {
   "attachments": {},
   "cell_type": "markdown",
   "metadata": {},
   "source": [
    "Оценим точность построенного классификатора с помощью метрики accuracy с помоцью значений y_test тестовой выборки."
   ]
  },
  {
   "cell_type": "code",
   "execution_count": 341,
   "metadata": {},
   "outputs": [
    {
     "name": "stdout",
     "output_type": "stream",
     "text": [
      "Accuracy: 0.903125\n",
      "classification report:\n",
      "               precision    recall  f1-score   support\n",
      "\n",
      "           0       0.92      0.97      0.94       273\n",
      "           1       0.74      0.53      0.62        47\n",
      "\n",
      "    accuracy                           0.90       320\n",
      "   macro avg       0.83      0.75      0.78       320\n",
      "weighted avg       0.90      0.90      0.90       320\n",
      "\n"
     ]
    }
   ],
   "source": [
    "from sklearn.metrics import accuracy_score, f1_score, precision_score, recall_score, classification_report\n",
    "\n",
    "# Оценка качества модели\n",
    "accuracy = accuracy_score(y_test, y_pred)\n",
    "\n",
    "print('Accuracy:', accuracy)\n",
    "\n",
    "repoort = classification_report(y_test, y_pred)\n",
    "print('classification report:\\n', f1)"
   ]
  },
  {
   "attachments": {},
   "cell_type": "markdown",
   "metadata": {},
   "source": [
    "Классификатор предсказал оценку качества вина с точностью почти в 88 процентов, что не может не радовать :)"
   ]
  },
  {
   "attachments": {},
   "cell_type": "markdown",
   "metadata": {},
   "source": [
    "Мы можем оценить вклад каждого признака в предсказания классификатора, основанного на логистической регрессии. Один из способов это сделать - это использовать коэффициенты модели, соответствующие каждой компоненте.\n",
    "\n",
    "После обучения модели логистической регрессии, мы можем получить доступ к коэффициентам с помощью атрибута coef_ объекта классификатора. Этот атрибут содержит массив коэффициентов, где каждый элемент соответствует вкладу соответствующего признака/компоненты в предсказания модели."
   ]
  },
  {
   "attachments": {},
   "cell_type": "markdown",
   "metadata": {},
   "source": [
    "#### Теоретическая вставка ####\n",
    "Коэффициенты логистической регрессии отражают влияние каждого признака/компоненты на предсказание модели. Знак коэффициента указывает на направление влияния: положительное значение коэффициента означает, что увеличение значения признака/компоненты увеличивает вероятность отнесения к положительному классу (1), а отрицательное значение коэффициента означает, что увеличение значения признака/компоненты уменьшает вероятность отнесения к положительному классу.\n",
    "\n",
    "Значение коэффициента по модулю отражает величину вклада: чем больше абсолютное значение коэффициента, тем сильнее признак/компонента влияет на предсказания модели. Если коэффициент близок к 0, это указывает на то, что соответствующая компонента не оказывает существенного влияния на предсказание."
   ]
  },
  {
   "cell_type": "code",
   "execution_count": 333,
   "metadata": {},
   "outputs": [
    {
     "name": "stdout",
     "output_type": "stream",
     "text": [
      "Вклад компоненты fixed acidity: 0.3280382286113049\n",
      "Вклад компоненты volatile acidity: 1.1208658228935013\n",
      "Вклад компоненты citric acid: 0.16712950512227875\n",
      "Вклад компоненты residual sugar: -0.14997820675777118\n",
      "Вклад компоненты chlorides: 0.6941446034744119\n",
      "Вклад компоненты free sulfur dioxide: 0.3822560413495285\n",
      "Вклад компоненты total sulfur dioxide: -0.76360458940335\n",
      "Вклад компоненты density: 0.7837142953415814\n",
      "Вклад компоненты pH: 0.610953925038174\n",
      "Вклад компоненты sulphates: -0.6631560266665076\n",
      "Вклад компоненты alcohol: -0.9953305376708654\n"
     ]
    }
   ],
   "source": [
    "# Получение коэффициентов модели\n",
    "coefficients = lr.coef_\n",
    "\n",
    "# Вывод вклада каждой компоненты\n",
    "for i, feature_name in enumerate(features[:11]):\n",
    "    print(f\"Вклад компоненты {feature_name}: {coefficients[0][i]}\")"
   ]
  },
  {
   "attachments": {},
   "cell_type": "markdown",
   "metadata": {},
   "source": [
    "Больший влад в предсказания модели внес признак alcohol, при чем с с увеличением крепости вина, его оценка повышается. Хорошие вина - крепкие вина!\n",
    "А вот кислотность/щелочность на предсказания практически не влияет. Из неожиданного: аромат и пикантность, которые вину добавляет лимонная кислота, оказались мало важны классификатору. Зачем пикантность, когда есть крепость?! Остальные признаки внесли ожидаемые и логные вклады в предсказание."
   ]
  },
  {
   "attachments": {},
   "cell_type": "markdown",
   "metadata": {},
   "source": [
    "### Случайный лес ###"
   ]
  },
  {
   "attachments": {},
   "cell_type": "markdown",
   "metadata": {},
   "source": [
    "Проделаем те же действия, используя классификатор случайного леса и сравним показания."
   ]
  },
  {
   "attachments": {},
   "cell_type": "markdown",
   "metadata": {},
   "source": [
    "#### Важное замечани и теоретическая втавка ####"
   ]
  },
  {
   "attachments": {},
   "cell_type": "markdown",
   "metadata": {},
   "source": [
    "Важность признаков в модели случайного леса (Random Forest) позволяет определить, насколько каждый признак влияет на предсказания модели. Важность признаков вычисляется на основе анализа поведения деревьев решений, объединенных в случайный лес.\n",
    "\n",
    "В случайном лесе важность признаков определяется по тому, как сильно признак улучшает качество разделения в узлах деревьев и снижает неопределенность предсказания. Чем больше признак используется для разделения и снижения неопределенности, тем важнее он считается.\n",
    "\n",
    "Важность признаков в модели случайного леса может быть вычислена с использованием атрибута feature_importances_, доступного после обучения модели. Этот атрибут содержит массив значений, где каждый элемент соответствует важности соответствующего признака.\n",
    "\n",
    "Высокое значение важности признака означает, что этот признак является сильным предиктором и имеет большое влияние на предсказания модели. Низкое значение важности признака указывает на его меньшее влияние на предсказания модели."
   ]
  },
  {
   "cell_type": "code",
   "execution_count": 335,
   "metadata": {},
   "outputs": [
    {
     "name": "stdout",
     "output_type": "stream",
     "text": [
      "Число деревьев для лучших значений метрик в первом приближении:  {'n_estimators': 250}\n"
     ]
    }
   ],
   "source": [
    "from sklearn.ensemble import RandomForestClassifier\n",
    "from sklearn.model_selection import GridSearchCV\n",
    "\n",
    "# Создание объекта модели случайного леса\n",
    "rf = RandomForestClassifier(random_state=16)\n",
    "\n",
    "# Определение сетки гиперпараметров\n",
    "param_grid = {'n_estimators': list(range(50, 1001, 50))} # число деревьев в лесу.\n",
    "grid_search = GridSearchCV(rf, param_grid, refit='f1')\n",
    "grid_search.fit(X_train, y_train)\n",
    "print('Число деревьев для лучших значений метрик в первом приближении: ', grid_search.best_params_)"
   ]
  },
  {
   "cell_type": "code",
   "execution_count": 347,
   "metadata": {},
   "outputs": [
    {
     "name": "stdout",
     "output_type": "stream",
     "text": [
      "F1-score: 0.62\n",
      "Precision-score: 0.74\n",
      "Recall-score: 0.53\n",
      "Важность компоненты alcohol в предсказание: 0.1683683697381484\n",
      "Важность компоненты sulphates в предсказание: 0.1176539226511102\n",
      "Важность компоненты volatile acidity в предсказание: 0.11440319823242955\n",
      "Важность компоненты density в предсказание: 0.09095262984935139\n",
      "Важность компоненты citric acid в предсказание: 0.08609172850460088\n",
      "Важность компоненты total sulfur dioxide в предсказание: 0.08277072781260766\n",
      "Важность компоненты fixed acidity в предсказание: 0.0750798837314956\n",
      "Важность компоненты chlorides в предсказание: 0.07462185551553169\n",
      "Важность компоненты residual sugar в предсказание: 0.06767809488753608\n",
      "Важность компоненты free sulfur dioxide в предсказание: 0.06334138308185172\n",
      "Важность компоненты pH в предсказание: 0.059038205995336955\n"
     ]
    }
   ],
   "source": [
    "best_clf.fit(X_train, y_train)\n",
    "\n",
    "# Предсказание классов на той же тестовой выборке\n",
    "y_pred = best_clf.predict(X_test)\n",
    "\n",
    "precision = precision_score(y_test, y_pred)\n",
    "recall = recall_score(y_test, y_pred)\n",
    "f1 = f1_score(y_test, y_pred)\n",
    "\n",
    "print(f'F1-score: {f1:.2}')\n",
    "print(f'Precision-score: {precision:.2}')\n",
    "print(f'Recall-score: {recall:.2}')\n",
    "\n",
    "# Получение важности каждого признака\n",
    "importance = best_clf.feature_importances_\n",
    "feature_and_importances = [(feature_name, i) for feature_name, i in zip(features[:11], importance)]\n",
    "feature_and_importances.sort(reverse=True, key = lambda x : x[1])\n",
    "# Вывод вклада каждой компоненты\n",
    "for name, imp in feature_and_importances:\n",
    "    print(f\"Важность компоненты {name} в предсказание: {imp}\")\n"
   ]
  },
  {
   "attachments": {},
   "cell_type": "markdown",
   "metadata": {},
   "source": [
    "Наибольший вклад в предсказания по прежнему вносит крепость вина, однако вклад признака citric acid на фоне других явно вырос, по сравнению с классификатором логистической регрессии. Все же опираясь на кислотность/щелочность вина можно делать некоторые предсказания. Остальные параметры примерно сохранили свою статистическую значимость."
   ]
  },
  {
   "attachments": {},
   "cell_type": "markdown",
   "metadata": {},
   "source": [
    "Анализ датафрема при помощи методов машинного обучения завершен."
   ]
  },
  {
   "attachments": {},
   "cell_type": "markdown",
   "metadata": {},
   "source": [
    "---"
   ]
  },
  {
   "attachments": {},
   "cell_type": "markdown",
   "metadata": {},
   "source": [
    "# §3 Оценка статистических параметров. Гистограммы распределений. #"
   ]
  },
  {
   "attachments": {},
   "cell_type": "markdown",
   "metadata": {},
   "source": [
    "Изучим вклад каждой компоненты в качество вина более детально. Для этого проведем анализ гистограмм распределения каждого признака, оценим статистические характеристики для кажой парной регрессии вида \"качество ~ признак\" и исследуем выбросы данных при помощи ящика с усиками."
   ]
  },
  {
   "attachments": {},
   "cell_type": "markdown",
   "metadata": {},
   "source": [
    "Для выполнения обозначенной задачи напишем функцию вывода всех необходимых результатов."
   ]
  },
  {
   "cell_type": "code",
   "execution_count": 371,
   "metadata": {},
   "outputs": [],
   "source": [
    "import seaborn as sns\n",
    "import statsmodels.api as sm\n",
    "from IPython.display import display\n",
    "\n",
    "\n",
    "    \n",
    "\n",
    "# Наглядное представление изучаемой пары \"качество ~ признак\"\n",
    "def plot_feature(X, feature, y):\n",
    "\n",
    "    # Гистограмма распределения\n",
    "    plt.figure(figsize=(2.8, 2.3))\n",
    "    axes = sns.histplot(data=X, x=feature, bins=30, label=\"Гистограмма распределения\")\n",
    "    plt.show()\n",
    "    \n",
    "    # Ящик с усами\n",
    "    plt.figure(figsize=(2.8, 2.3))\n",
    "    axes = sns.boxplot(data=X, x=y, y=feature)\n",
    "    axes.set(xlabel='quality', ylabel=feature, label=\"Ящик с усами\")\n",
    "    plt.show()\n",
    "    \n",
    "    # Масштабирование данных\n",
    "    X1 = X[feature]\n",
    "    X1 = (X1 - np.mean(X1)) / np.std(X1, axis=0)\n",
    "    y1 = y\n",
    "    y1 = (y1 - np.mean(y1, axis=0)) / np.std(y1, axis=0)\n",
    "\n",
    "    # Создание модели линейной регрессии\n",
    "    model = sm.OLS(y1, sm.add_constant(X1))\n",
    "\n",
    "    # Обучение модели\n",
    "    results = model.fit()\n",
    "    conf = results.conf_int()\n",
    "    conf_str = f\"[{conf[1][0]:.5f}, {conf[1][1]:.5f}]\"\n",
    "\n",
    "    # Создание таблицы с результатами\n",
    "    summary_table = pd.DataFrame({'Коэффициент': results.params,\n",
    "                                  'Стандартная ошибка': results.bse,\n",
    "                                  't-значение': results.tvalues,\n",
    "                                  'P-значение': results.pvalues,\n",
    "                                  'Доверительный интервал': conf_str})\n",
    "    summary_table.drop(axis = 0, index = 'const', inplace=True)\n",
    "    # Вывод таблицы с результатами\n",
    "    display(summary_table)\n",
    "\n",
    "\n"
   ]
  },
  {
   "attachments": {},
   "cell_type": "markdown",
   "metadata": {},
   "source": [
    "Так как данные были сильно измененый входе манипуляций из предыдущих параграфов, загрузим их заново в перованачальном виде для более нагладного представления и изучения."
   ]
  },
  {
   "cell_type": "code",
   "execution_count": 352,
   "metadata": {},
   "outputs": [],
   "source": [
    "# Загрузка данных\n",
    "data = pd.read_csv('winequality-red.csv')\n",
    "\n",
    "#отделение целевого признака\n",
    "target = data['quality']\n",
    "\n",
    "# Удаление целевого признака из данных\n",
    "data.drop(columns=['quality'], inplace=True)"
   ]
  },
  {
   "attachments": {},
   "cell_type": "markdown",
   "metadata": {},
   "source": [
    "Приступим к оценкам."
   ]
  },
  {
   "cell_type": "code",
   "execution_count": 370,
   "metadata": {},
   "outputs": [
    {
     "data": {
      "image/png": "[encoded data removed]",
      "text/plain": [
       "<Figure size 300x230 with 1 Axes>"
      ]
     },
     "metadata": {},
     "output_type": "display_data"
    },
    {
     "data": {
      "image/png": "[encoded data removed]",
      "text/plain": [
       "<Figure size 280x230 with 1 Axes>"
      ]
     },
     "metadata": {},
     "output_type": "display_data"
    },
    {
     "data": {
      "text/html": [
       "<div>\n",
       "<style scoped>\n",
       "    .dataframe tbody tr th:only-of-type {\n",
       "        vertical-align: middle;\n",
       "    }\n",
       "\n",
       "    .dataframe tbody tr th {\n",
       "        vertical-align: top;\n",
       "    }\n",
       "\n",
       "    .dataframe thead th {\n",
       "        text-align: right;\n",
       "    }\n",
       "</style>\n",
       "<table border=\"1\" class=\"dataframe\">\n",
       "  <thead>\n",
       "    <tr style=\"text-align: right;\">\n",
       "      <th></th>\n",
       "      <th>Коэффициент</th>\n",
       "      <th>Стандартная ошибка</th>\n",
       "      <th>t-значение</th>\n",
       "      <th>P-значение</th>\n",
       "      <th>Доверительный интервал</th>\n",
       "    </tr>\n",
       "  </thead>\n",
       "  <tbody>\n",
       "    <tr>\n",
       "      <th>fixed acidity</th>\n",
       "      <td>0.124052</td>\n",
       "      <td>0.02483</td>\n",
       "      <td>4.996002</td>\n",
       "      <td>6.495635e-07</td>\n",
       "      <td>[0.04870, 0.17275]</td>\n",
       "    </tr>\n",
       "  </tbody>\n",
       "</table>\n",
       "</div>"
      ],
      "text/plain": [
       "               Коэффициент  Стандартная ошибка  t-значение    P-значение  \\\n",
       "fixed acidity     0.124052             0.02483    4.996002  6.495635e-07   \n",
       "\n",
       "              Доверительный интервал  \n",
       "fixed acidity     [0.04870, 0.17275]  "
      ]
     },
     "metadata": {},
     "output_type": "display_data"
    }
   ],
   "source": [
    "plot_feature(data, 'fixed acidity', target)"
   ]
  },
  {
   "cell_type": "code",
   "execution_count": 374,
   "metadata": {},
   "outputs": [
    {
     "data": {
      "image/png": "[encoded data removed]",
      "text/plain": [
       "<Figure size 280x230 with 1 Axes>"
      ]
     },
     "metadata": {},
     "output_type": "display_data"
    },
    {
     "data": {
      "image/png": "[encoded data removed]",
      "text/plain": [
       "<Figure size 280x230 with 1 Axes>"
      ]
     },
     "metadata": {},
     "output_type": "display_data"
    },
    {
     "data": {
      "text/html": [
       "<div>\n",
       "<style scoped>\n",
       "    .dataframe tbody tr th:only-of-type {\n",
       "        vertical-align: middle;\n",
       "    }\n",
       "\n",
       "    .dataframe tbody tr th {\n",
       "        vertical-align: top;\n",
       "    }\n",
       "\n",
       "    .dataframe thead th {\n",
       "        text-align: right;\n",
       "    }\n",
       "</style>\n",
       "<table border=\"1\" class=\"dataframe\">\n",
       "  <thead>\n",
       "    <tr style=\"text-align: right;\">\n",
       "      <th></th>\n",
       "      <th>Коэффициент</th>\n",
       "      <th>Стандартная ошибка</th>\n",
       "      <th>t-значение</th>\n",
       "      <th>P-значение</th>\n",
       "      <th>Доверительный интервал</th>\n",
       "    </tr>\n",
       "  </thead>\n",
       "  <tbody>\n",
       "    <tr>\n",
       "      <th>volatile acidity</th>\n",
       "      <td>-0.390558</td>\n",
       "      <td>0.023036</td>\n",
       "      <td>-16.954187</td>\n",
       "      <td>2.051715e-59</td>\n",
       "      <td>[0.04518, -0.34537]</td>\n",
       "    </tr>\n",
       "  </tbody>\n",
       "</table>\n",
       "</div>"
      ],
      "text/plain": [
       "                  Коэффициент  Стандартная ошибка  t-значение    P-значение  \\\n",
       "volatile acidity    -0.390558            0.023036  -16.954187  2.051715e-59   \n",
       "\n",
       "                 Доверительный интервал  \n",
       "volatile acidity    [0.04518, -0.34537]  "
      ]
     },
     "metadata": {},
     "output_type": "display_data"
    }
   ],
   "source": [
    "plot_feature(data, 'volatile acidity', target)"
   ]
  },
  {
   "cell_type": "code",
   "execution_count": 377,
   "metadata": {},
   "outputs": [
    {
     "data": {
      "image/png": "[encoded data removed]",
      "text/plain": [
       "<Figure size 280x230 with 1 Axes>"
      ]
     },
     "metadata": {},
     "output_type": "display_data"
    },
    {
     "data": {
      "image/png": "[encoded data removed]",
      "text/plain": [
       "<Figure size 280x230 with 1 Axes>"
      ]
     },
     "metadata": {},
     "output_type": "display_data"
    },
    {
     "data": {
      "text/html": [
       "<div>\n",
       "<style scoped>\n",
       "    .dataframe tbody tr th:only-of-type {\n",
       "        vertical-align: middle;\n",
       "    }\n",
       "\n",
       "    .dataframe tbody tr th {\n",
       "        vertical-align: top;\n",
       "    }\n",
       "\n",
       "    .dataframe thead th {\n",
       "        text-align: right;\n",
       "    }\n",
       "</style>\n",
       "<table border=\"1\" class=\"dataframe\">\n",
       "  <thead>\n",
       "    <tr style=\"text-align: right;\">\n",
       "      <th></th>\n",
       "      <th>Коэффициент</th>\n",
       "      <th>Стандартная ошибка</th>\n",
       "      <th>t-значение</th>\n",
       "      <th>P-значение</th>\n",
       "      <th>Доверительный интервал</th>\n",
       "    </tr>\n",
       "  </thead>\n",
       "  <tbody>\n",
       "    <tr>\n",
       "      <th>citric acid</th>\n",
       "      <td>0.226373</td>\n",
       "      <td>0.024374</td>\n",
       "      <td>9.287504</td>\n",
       "      <td>4.991295e-20</td>\n",
       "      <td>[0.04781, 0.27418]</td>\n",
       "    </tr>\n",
       "  </tbody>\n",
       "</table>\n",
       "</div>"
      ],
      "text/plain": [
       "             Коэффициент  Стандартная ошибка  t-значение    P-значение  \\\n",
       "citric acid     0.226373            0.024374    9.287504  4.991295e-20   \n",
       "\n",
       "            Доверительный интервал  \n",
       "citric acid     [0.04781, 0.27418]  "
      ]
     },
     "metadata": {},
     "output_type": "display_data"
    }
   ],
   "source": [
    "plot_feature(data, 'citric acid', target)"
   ]
  },
  {
   "cell_type": "code",
   "execution_count": 381,
   "metadata": {},
   "outputs": [
    {
     "data": {
      "image/png": "[encoded data removed]",
      "text/plain": [
       "<Figure size 280x230 with 1 Axes>"
      ]
     },
     "metadata": {},
     "output_type": "display_data"
    },
    {
     "data": {
      "image/png": "[encoded data removed]",
      "text/plain": [
       "<Figure size 280x230 with 1 Axes>"
      ]
     },
     "metadata": {},
     "output_type": "display_data"
    },
    {
     "data": {
      "text/html": [
       "<div>\n",
       "<style scoped>\n",
       "    .dataframe tbody tr th:only-of-type {\n",
       "        vertical-align: middle;\n",
       "    }\n",
       "\n",
       "    .dataframe tbody tr th {\n",
       "        vertical-align: top;\n",
       "    }\n",
       "\n",
       "    .dataframe thead th {\n",
       "        text-align: right;\n",
       "    }\n",
       "</style>\n",
       "<table border=\"1\" class=\"dataframe\">\n",
       "  <thead>\n",
       "    <tr style=\"text-align: right;\">\n",
       "      <th></th>\n",
       "      <th>Коэффициент</th>\n",
       "      <th>Стандартная ошибка</th>\n",
       "      <th>t-значение</th>\n",
       "      <th>P-значение</th>\n",
       "      <th>Доверительный интервал</th>\n",
       "    </tr>\n",
       "  </thead>\n",
       "  <tbody>\n",
       "    <tr>\n",
       "      <th>residual sugar</th>\n",
       "      <td>0.013732</td>\n",
       "      <td>0.025021</td>\n",
       "      <td>0.548802</td>\n",
       "      <td>0.583218</td>\n",
       "      <td>[0.04908, 0.06281]</td>\n",
       "    </tr>\n",
       "  </tbody>\n",
       "</table>\n",
       "</div>"
      ],
      "text/plain": [
       "                Коэффициент  Стандартная ошибка  t-значение  P-значение  \\\n",
       "residual sugar     0.013732            0.025021    0.548802    0.583218   \n",
       "\n",
       "               Доверительный интервал  \n",
       "residual sugar     [0.04908, 0.06281]  "
      ]
     },
     "metadata": {},
     "output_type": "display_data"
    }
   ],
   "source": [
    "plot_feature(data, 'residual sugar', target)"
   ]
  },
  {
   "cell_type": "code",
   "execution_count": 380,
   "metadata": {},
   "outputs": [
    {
     "data": {
      "image/png": "[encoded data removed]",
      "text/plain": [
       "<Figure size 280x230 with 1 Axes>"
      ]
     },
     "metadata": {},
     "output_type": "display_data"
    },
    {
     "data": {
      "image/png": "[encoded data removed]",
      "text/plain": [
       "<Figure size 280x230 with 1 Axes>"
      ]
     },
     "metadata": {},
     "output_type": "display_data"
    },
    {
     "data": {
      "text/html": [
       "<div>\n",
       "<style scoped>\n",
       "    .dataframe tbody tr th:only-of-type {\n",
       "        vertical-align: middle;\n",
       "    }\n",
       "\n",
       "    .dataframe tbody tr th {\n",
       "        vertical-align: top;\n",
       "    }\n",
       "\n",
       "    .dataframe thead th {\n",
       "        text-align: right;\n",
       "    }\n",
       "</style>\n",
       "<table border=\"1\" class=\"dataframe\">\n",
       "  <thead>\n",
       "    <tr style=\"text-align: right;\">\n",
       "      <th></th>\n",
       "      <th>Коэффициент</th>\n",
       "      <th>Стандартная ошибка</th>\n",
       "      <th>t-значение</th>\n",
       "      <th>P-значение</th>\n",
       "      <th>Доверительный интервал</th>\n",
       "    </tr>\n",
       "  </thead>\n",
       "  <tbody>\n",
       "    <tr>\n",
       "      <th>chlorides</th>\n",
       "      <td>-0.128907</td>\n",
       "      <td>0.024815</td>\n",
       "      <td>-5.194767</td>\n",
       "      <td>2.313383e-07</td>\n",
       "      <td>[0.04867, -0.08023]</td>\n",
       "    </tr>\n",
       "  </tbody>\n",
       "</table>\n",
       "</div>"
      ],
      "text/plain": [
       "           Коэффициент  Стандартная ошибка  t-значение    P-значение  \\\n",
       "chlorides    -0.128907            0.024815   -5.194767  2.313383e-07   \n",
       "\n",
       "          Доверительный интервал  \n",
       "chlorides    [0.04867, -0.08023]  "
      ]
     },
     "metadata": {},
     "output_type": "display_data"
    }
   ],
   "source": [
    "plot_feature(data, 'chlorides', target)"
   ]
  },
  {
   "cell_type": "code",
   "execution_count": 382,
   "metadata": {},
   "outputs": [
    {
     "data": {
      "image/png": "[encoded data removed]",
      "text/plain": [
       "<Figure size 280x230 with 1 Axes>"
      ]
     },
     "metadata": {},
     "output_type": "display_data"
    },
    {
     "data": {
      "image/png": "[encoded data removed]",
      "text/plain": [
       "<Figure size 280x230 with 1 Axes>"
      ]
     },
     "metadata": {},
     "output_type": "display_data"
    },
    {
     "data": {
      "text/html": [
       "<div>\n",
       "<style scoped>\n",
       "    .dataframe tbody tr th:only-of-type {\n",
       "        vertical-align: middle;\n",
       "    }\n",
       "\n",
       "    .dataframe tbody tr th {\n",
       "        vertical-align: top;\n",
       "    }\n",
       "\n",
       "    .dataframe thead th {\n",
       "        text-align: right;\n",
       "    }\n",
       "</style>\n",
       "<table border=\"1\" class=\"dataframe\">\n",
       "  <thead>\n",
       "    <tr style=\"text-align: right;\">\n",
       "      <th></th>\n",
       "      <th>Коэффициент</th>\n",
       "      <th>Стандартная ошибка</th>\n",
       "      <th>t-значение</th>\n",
       "      <th>P-значение</th>\n",
       "      <th>Доверительный интервал</th>\n",
       "    </tr>\n",
       "  </thead>\n",
       "  <tbody>\n",
       "    <tr>\n",
       "      <th>free sulfur dioxide</th>\n",
       "      <td>-0.050656</td>\n",
       "      <td>0.024991</td>\n",
       "      <td>-2.026944</td>\n",
       "      <td>0.042834</td>\n",
       "      <td>[0.04902, -0.00164]</td>\n",
       "    </tr>\n",
       "  </tbody>\n",
       "</table>\n",
       "</div>"
      ],
      "text/plain": [
       "                     Коэффициент  Стандартная ошибка  t-значение  P-значение  \\\n",
       "free sulfur dioxide    -0.050656            0.024991   -2.026944    0.042834   \n",
       "\n",
       "                    Доверительный интервал  \n",
       "free sulfur dioxide    [0.04902, -0.00164]  "
      ]
     },
     "metadata": {},
     "output_type": "display_data"
    }
   ],
   "source": [
    "plot_feature(data, 'free sulfur dioxide', target)"
   ]
  },
  {
   "cell_type": "code",
   "execution_count": 378,
   "metadata": {},
   "outputs": [
    {
     "data": {
      "image/png": "[encoded data removed]",
      "text/plain": [
       "<Figure size 280x230 with 1 Axes>"
      ]
     },
     "metadata": {},
     "output_type": "display_data"
    },
    {
     "data": {
      "image/png": "[encoded data removed]",
      "text/plain": [
       "<Figure size 280x230 with 1 Axes>"
      ]
     },
     "metadata": {},
     "output_type": "display_data"
    },
    {
     "data": {
      "text/html": [
       "<div>\n",
       "<style scoped>\n",
       "    .dataframe tbody tr th:only-of-type {\n",
       "        vertical-align: middle;\n",
       "    }\n",
       "\n",
       "    .dataframe tbody tr th {\n",
       "        vertical-align: top;\n",
       "    }\n",
       "\n",
       "    .dataframe thead th {\n",
       "        text-align: right;\n",
       "    }\n",
       "</style>\n",
       "<table border=\"1\" class=\"dataframe\">\n",
       "  <thead>\n",
       "    <tr style=\"text-align: right;\">\n",
       "      <th></th>\n",
       "      <th>Коэффициент</th>\n",
       "      <th>Стандартная ошибка</th>\n",
       "      <th>t-значение</th>\n",
       "      <th>P-значение</th>\n",
       "      <th>Доверительный интервал</th>\n",
       "    </tr>\n",
       "  </thead>\n",
       "  <tbody>\n",
       "    <tr>\n",
       "      <th>total sulfur dioxide</th>\n",
       "      <td>-0.1851</td>\n",
       "      <td>0.024591</td>\n",
       "      <td>-7.527139</td>\n",
       "      <td>8.621703e-14</td>\n",
       "      <td>[0.04823, -0.13687]</td>\n",
       "    </tr>\n",
       "  </tbody>\n",
       "</table>\n",
       "</div>"
      ],
      "text/plain": [
       "                      Коэффициент  Стандартная ошибка  t-значение  \\\n",
       "total sulfur dioxide      -0.1851            0.024591   -7.527139   \n",
       "\n",
       "                        P-значение Доверительный интервал  \n",
       "total sulfur dioxide  8.621703e-14    [0.04823, -0.13687]  "
      ]
     },
     "metadata": {},
     "output_type": "display_data"
    }
   ],
   "source": [
    "plot_feature(data, 'total sulfur dioxide', target)"
   ]
  },
  {
   "cell_type": "code",
   "execution_count": 375,
   "metadata": {},
   "outputs": [
    {
     "data": {
      "image/png": "[encoded data removed]",
      "text/plain": [
       "<Figure size 280x230 with 1 Axes>"
      ]
     },
     "metadata": {},
     "output_type": "display_data"
    },
    {
     "data": {
      "image/png": "[encoded data removed]",
      "text/plain": [
       "<Figure size 280x230 with 1 Axes>"
      ]
     },
     "metadata": {},
     "output_type": "display_data"
    },
    {
     "data": {
      "text/html": [
       "<div>\n",
       "<style scoped>\n",
       "    .dataframe tbody tr th:only-of-type {\n",
       "        vertical-align: middle;\n",
       "    }\n",
       "\n",
       "    .dataframe tbody tr th {\n",
       "        vertical-align: top;\n",
       "    }\n",
       "\n",
       "    .dataframe thead th {\n",
       "        text-align: right;\n",
       "    }\n",
       "</style>\n",
       "<table border=\"1\" class=\"dataframe\">\n",
       "  <thead>\n",
       "    <tr style=\"text-align: right;\">\n",
       "      <th></th>\n",
       "      <th>Коэффициент</th>\n",
       "      <th>Стандартная ошибка</th>\n",
       "      <th>t-значение</th>\n",
       "      <th>P-значение</th>\n",
       "      <th>Доверительный интервал</th>\n",
       "    </tr>\n",
       "  </thead>\n",
       "  <tbody>\n",
       "    <tr>\n",
       "      <th>density</th>\n",
       "      <td>-0.174919</td>\n",
       "      <td>0.024638</td>\n",
       "      <td>-7.099664</td>\n",
       "      <td>1.874957e-12</td>\n",
       "      <td>[0.04833, -0.12659]</td>\n",
       "    </tr>\n",
       "  </tbody>\n",
       "</table>\n",
       "</div>"
      ],
      "text/plain": [
       "         Коэффициент  Стандартная ошибка  t-значение    P-значение  \\\n",
       "density    -0.174919            0.024638   -7.099664  1.874957e-12   \n",
       "\n",
       "        Доверительный интервал  \n",
       "density    [0.04833, -0.12659]  "
      ]
     },
     "metadata": {},
     "output_type": "display_data"
    }
   ],
   "source": [
    "plot_feature(data, 'density', target)"
   ]
  },
  {
   "cell_type": "code",
   "execution_count": 379,
   "metadata": {},
   "outputs": [
    {
     "data": {
      "image/png": "[encoded data removed]",
      "text/plain": [
       "<Figure size 280x230 with 1 Axes>"
      ]
     },
     "metadata": {},
     "output_type": "display_data"
    },
    {
     "data": {
      "image/png": "[encoded data removed]",
      "text/plain": [
       "<Figure size 280x230 with 1 Axes>"
      ]
     },
     "metadata": {},
     "output_type": "display_data"
    },
    {
     "data": {
      "text/html": [
       "<div>\n",
       "<style scoped>\n",
       "    .dataframe tbody tr th:only-of-type {\n",
       "        vertical-align: middle;\n",
       "    }\n",
       "\n",
       "    .dataframe tbody tr th {\n",
       "        vertical-align: top;\n",
       "    }\n",
       "\n",
       "    .dataframe thead th {\n",
       "        text-align: right;\n",
       "    }\n",
       "</style>\n",
       "<table border=\"1\" class=\"dataframe\">\n",
       "  <thead>\n",
       "    <tr style=\"text-align: right;\">\n",
       "      <th></th>\n",
       "      <th>Коэффициент</th>\n",
       "      <th>Стандартная ошибка</th>\n",
       "      <th>t-значение</th>\n",
       "      <th>P-значение</th>\n",
       "      <th>Доверительный интервал</th>\n",
       "    </tr>\n",
       "  </thead>\n",
       "  <tbody>\n",
       "    <tr>\n",
       "      <th>pH</th>\n",
       "      <td>-0.057731</td>\n",
       "      <td>0.024982</td>\n",
       "      <td>-2.310944</td>\n",
       "      <td>0.020963</td>\n",
       "      <td>[0.04900, -0.00873]</td>\n",
       "    </tr>\n",
       "  </tbody>\n",
       "</table>\n",
       "</div>"
      ],
      "text/plain": [
       "    Коэффициент  Стандартная ошибка  t-значение  P-значение  \\\n",
       "pH    -0.057731            0.024982   -2.310944    0.020963   \n",
       "\n",
       "   Доверительный интервал  \n",
       "pH    [0.04900, -0.00873]  "
      ]
     },
     "metadata": {},
     "output_type": "display_data"
    }
   ],
   "source": [
    "plot_feature(data, 'pH', target)"
   ]
  },
  {
   "cell_type": "code",
   "execution_count": 373,
   "metadata": {},
   "outputs": [
    {
     "data": {
      "image/png": "[encoded data removed]",
      "text/plain": [
       "<Figure size 280x230 with 1 Axes>"
      ]
     },
     "metadata": {},
     "output_type": "display_data"
    },
    {
     "data": {
      "image/png": "[encoded data removed]",
      "text/plain": [
       "<Figure size 280x230 with 1 Axes>"
      ]
     },
     "metadata": {},
     "output_type": "display_data"
    },
    {
     "data": {
      "text/html": [
       "<div>\n",
       "<style scoped>\n",
       "    .dataframe tbody tr th:only-of-type {\n",
       "        vertical-align: middle;\n",
       "    }\n",
       "\n",
       "    .dataframe tbody tr th {\n",
       "        vertical-align: top;\n",
       "    }\n",
       "\n",
       "    .dataframe thead th {\n",
       "        text-align: right;\n",
       "    }\n",
       "</style>\n",
       "<table border=\"1\" class=\"dataframe\">\n",
       "  <thead>\n",
       "    <tr style=\"text-align: right;\">\n",
       "      <th></th>\n",
       "      <th>Коэффициент</th>\n",
       "      <th>Стандартная ошибка</th>\n",
       "      <th>t-значение</th>\n",
       "      <th>P-значение</th>\n",
       "      <th>Доверительный интервал</th>\n",
       "    </tr>\n",
       "  </thead>\n",
       "  <tbody>\n",
       "    <tr>\n",
       "      <th>sulphates</th>\n",
       "      <td>0.251397</td>\n",
       "      <td>0.02422</td>\n",
       "      <td>10.379809</td>\n",
       "      <td>1.802088e-24</td>\n",
       "      <td>[0.04751, 0.29890]</td>\n",
       "    </tr>\n",
       "  </tbody>\n",
       "</table>\n",
       "</div>"
      ],
      "text/plain": [
       "           Коэффициент  Стандартная ошибка  t-значение    P-значение  \\\n",
       "sulphates     0.251397             0.02422   10.379809  1.802088e-24   \n",
       "\n",
       "          Доверительный интервал  \n",
       "sulphates     [0.04751, 0.29890]  "
      ]
     },
     "metadata": {},
     "output_type": "display_data"
    }
   ],
   "source": [
    "plot_feature(data, 'sulphates', target)"
   ]
  },
  {
   "cell_type": "code",
   "execution_count": 372,
   "metadata": {},
   "outputs": [
    {
     "data": {
      "image/png": "[encoded data removed]",
      "text/plain": [
       "<Figure size 280x230 with 1 Axes>"
      ]
     },
     "metadata": {},
     "output_type": "display_data"
    },
    {
     "data": {
      "image/png": "[encoded data removed]",
      "text/plain": [
       "<Figure size 280x230 with 1 Axes>"
      ]
     },
     "metadata": {},
     "output_type": "display_data"
    },
    {
     "data": {
      "text/html": [
       "<div>\n",
       "<style scoped>\n",
       "    .dataframe tbody tr th:only-of-type {\n",
       "        vertical-align: middle;\n",
       "    }\n",
       "\n",
       "    .dataframe tbody tr th {\n",
       "        vertical-align: top;\n",
       "    }\n",
       "\n",
       "    .dataframe thead th {\n",
       "        text-align: right;\n",
       "    }\n",
       "</style>\n",
       "<table border=\"1\" class=\"dataframe\">\n",
       "  <thead>\n",
       "    <tr style=\"text-align: right;\">\n",
       "      <th></th>\n",
       "      <th>Коэффициент</th>\n",
       "      <th>Стандартная ошибка</th>\n",
       "      <th>t-значение</th>\n",
       "      <th>P-значение</th>\n",
       "      <th>Доверительный интервал</th>\n",
       "    </tr>\n",
       "  </thead>\n",
       "  <tbody>\n",
       "    <tr>\n",
       "      <th>alcohol</th>\n",
       "      <td>0.476166</td>\n",
       "      <td>0.022005</td>\n",
       "      <td>21.639478</td>\n",
       "      <td>2.831477e-91</td>\n",
       "      <td>[0.04316, 0.51933]</td>\n",
       "    </tr>\n",
       "  </tbody>\n",
       "</table>\n",
       "</div>"
      ],
      "text/plain": [
       "         Коэффициент  Стандартная ошибка  t-значение    P-значение  \\\n",
       "alcohol     0.476166            0.022005   21.639478  2.831477e-91   \n",
       "\n",
       "        Доверительный интервал  \n",
       "alcohol     [0.04316, 0.51933]  "
      ]
     },
     "metadata": {},
     "output_type": "display_data"
    }
   ],
   "source": [
    "plot_feature(data, 'alcohol', target)"
   ]
  }
 ],
 "metadata": {
  "kernelspec": {
   "display_name": "base",
   "language": "python",
   "name": "python3"
  },
  "language_info": {
   "codemirror_mode": {
    "name": "ipython",
    "version": 3
   },
   "file_extension": ".py",
   "mimetype": "text/x-python",
   "name": "python",
   "nbconvert_exporter": "python",
   "pygments_lexer": "ipython3",
   "version": "3.9.13"
  },
  "orig_nbformat": 4
 },
 "nbformat": 4,
 "nbformat_minor": 2
}
